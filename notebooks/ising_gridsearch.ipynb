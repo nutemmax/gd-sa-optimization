{
 "cells": [
  {
   "cell_type": "code",
   "execution_count": 1,
   "id": "1e8d7036",
   "metadata": {},
   "outputs": [],
   "source": [
    "import os\n",
    "import sys\n",
    "import numpy as np\n",
    "import pandas as pd\n",
    "import itertools\n",
    "from tqdm import tqdm\n",
    "import time\n",
    "\n",
    "# Set up path to project root\n",
    "notebook_dir = os.getcwd()\n",
    "project_root = os.path.abspath(os.path.join(notebook_dir, \"..\"))\n",
    "sys.path.append(project_root)\n",
    "\n",
    "# Custom modules\n",
    "from src.problems.ising import relaxed_ising_energy, grad_relaxed_ising, ising_energy\n",
    "from src.optimizers.sa import sa_continuous, sa_discrete\n",
    "from src.optimizers.gd import gradient_descent\n",
    "from src.optimizers.hybrid import sa_gd_hybrid\n",
    "from src.utils.utils_experiments import bootstrap_experiment_ising, evaluate_continuous_results, evaluate_ising_results\n",
    "\n",
    "# Output directory\n",
    "results_dir = os.path.join(project_root, \"results\", \"gridsearch\")\n",
    "os.makedirs(results_dir, exist_ok=True)"
   ]
  },
  {
   "cell_type": "code",
   "execution_count": null,
   "id": "8f24ee16",
   "metadata": {},
   "outputs": [],
   "source": [
    "# Hyperparameter grids\n",
    "sa_grid = {\n",
    "    'T_init': [10, 50, 100],\n",
    "    'alpha': [0.9, 0.95, 0.99, 0.995, 0.999],\n",
    "    'step_size': [0.005, 0.01, 0.05, 0.1, 0.3, 0.5]\n",
    "}\n",
    "\n",
    "sa_grid_cont = {\n",
    "    'T0': [10, 50, 100],\n",
    "    'alpha': [0.9, 0.95, 0.99, 0.995, 0.999],\n",
    "    'step_size': [0.005, 0.01, 0.05, 0.1, 0.3, 0.5]\n",
    "}\n",
    "\n",
    "gd_grid = {\n",
    "    'lr': [0.0001, 0.001, 0.01, 0.05, 0.1, 0.3, 0.5]\n",
    "}\n",
    "\n",
    "lattice_shape = (10, 10)\n",
    "num_runs = 25\n",
    "dim_ising = 10\n",
    "x_inits_disc = [np.random.choice([-1, 1], size=lattice_shape) for _ in range(num_runs)]\n",
    "ascent_method = \"unif\""
   ]
  },
  {
   "cell_type": "code",
   "execution_count": 3,
   "id": "bf0aefc2",
   "metadata": {},
   "outputs": [],
   "source": [
    "def run_one_sa_discrete(T_init, alpha, num_runs=25):\n",
    "    # Define known ground-truth state for evaluation\n",
    "    best_state = np.ones(lattice_shape)\n",
    "\n",
    "    # Set up initial spin configurations\n",
    "    x_inits_disc = [\n",
    "        np.random.choice([-1, 1], size=lattice_shape)\n",
    "        for _ in range(num_runs)\n",
    "    ]\n",
    "\n",
    "    # Run bootstrap experiment\n",
    "    result = bootstrap_experiment_ising(\n",
    "        algorithm_function=sa_discrete,\n",
    "        runs=num_runs,\n",
    "        f=ising_energy,\n",
    "        dim=dim_ising,\n",
    "        x_inits=x_inits_disc,\n",
    "        is_discrete=True,\n",
    "        best_state=best_state,\n",
    "        hamming_threshold=0,\n",
    "        T_init=T_init,\n",
    "        alpha=alpha,\n",
    "        lattice_size=lattice_shape,\n",
    "        max_iter=20000,\n",
    "        tol=1e-6,\n",
    "        f_star=-200.0\n",
    "    )\n",
    "\n",
    "    stats = result[\"stats\"]\n",
    "    \n",
    "    return {\n",
    "        \"algorithm\": \"SA_discrete\",\n",
    "        \"T_init\": T_init,\n",
    "        \"alpha\": alpha,\n",
    "        \"mean\": stats.get(\"mean\"),\n",
    "        \"best\": stats.get(\"best\"),\n",
    "        \"worst\": stats.get(\"worst\"),\n",
    "        \"std\": stats.get(\"std\"),\n",
    "        \"rmse\" : stats.get(\"rmse\"),\n",
    "        \"mse\" : stats.get(\"rmse\"),\n",
    "        \"mean_runtime\": stats.get(\"mean_runtime\"),\n",
    "        \"hamming_best_to_gt\": stats.get(\"hamming_best_to_gt\")\n",
    "    }\n",
    "\n",
    "def grid_search_sa_discrete(grid, num_runs=25):\n",
    "    combos = list(itertools.product(grid[\"T_init\"], grid[\"alpha\"]))\n",
    "    results = []\n",
    "\n",
    "    for idx, (T_init, alpha) in enumerate(tqdm(combos), 1):\n",
    "        print(f\"[{idx}/{len(combos)}] T_init = {T_init}, alpha = {alpha}\")\n",
    "        res = run_one_sa_discrete(T_init, alpha, num_runs)\n",
    "        results.append(res)\n",
    "\n",
    "    return pd.DataFrame(results)"
   ]
  },
  {
   "cell_type": "code",
   "execution_count": 4,
   "id": "59b17345",
   "metadata": {},
   "outputs": [],
   "source": [
    "def run_one_sa_continuous(T0, alpha, step_size, num_runs=25):\n",
    "\n",
    "    # define known ground-truth state for evaluation\n",
    "    best_state = np.ones(lattice_shape)\n",
    "\n",
    "    x_inits_cont = [\n",
    "        np.random.uniform(low=-1.0, high=1.0, size=lattice_shape)\n",
    "        for _ in range(num_runs)\n",
    "    ]\n",
    "\n",
    "    result = bootstrap_experiment_ising(\n",
    "        algorithm_function=sa_continuous,\n",
    "        runs=num_runs,\n",
    "        f=relaxed_ising_energy,\n",
    "        grad_f=None,\n",
    "        dim=dim_ising,\n",
    "        x_inits=x_inits_cont,\n",
    "        is_discrete=False,\n",
    "        T0=T0,\n",
    "        alpha=alpha,\n",
    "        step_size=step_size,\n",
    "        max_iter=20000,\n",
    "        tol=1e-6,\n",
    "        f_star=-200.0,\n",
    "        init_range = (-1,1)\n",
    "    )\n",
    "\n",
    "    stats = result[\"stats\"]\n",
    "\n",
    "    return {\n",
    "        \"algorithm\": \"SA_continuous\",\n",
    "        \"T0\": T0,\n",
    "        \"alpha\": alpha,\n",
    "        \"step_size\": step_size,\n",
    "        \"mean\": stats.get(\"mean\"),\n",
    "        \"best\": stats.get(\"best\"),\n",
    "        \"worst\": stats.get(\"worst\"),\n",
    "        \"std\": stats.get(\"std\"),\n",
    "        \"rmse\": stats.get(\"rmse\"),\n",
    "        \"mse\": stats.get(\"mse\"),\n",
    "        \"mean_runtime\": stats.get(\"mean_runtime\"),\n",
    "        \"mean_distance_to_x_star\": stats.get(\"mean_distance_to_x_star\")\n",
    "    }\n",
    "\n",
    "def grid_search_sa_continuous(grid, num_runs=25):\n",
    "    combos = list(itertools.product(grid[\"T0\"], grid[\"alpha\"], grid[\"step_size\"]))\n",
    "    results = []\n",
    "\n",
    "    for idx, (T0, alpha, step_size) in enumerate(tqdm(combos), 1):\n",
    "        print(f\"[{idx}/{len(combos)}] T0 = {T0}, alpha = {alpha}, step_size = {step_size}\")\n",
    "        res = run_one_sa_continuous(T0, alpha, step_size, num_runs)\n",
    "        results.append(res)\n",
    "\n",
    "    return pd.DataFrame(results)"
   ]
  },
  {
   "cell_type": "code",
   "execution_count": 5,
   "id": "2fb32892",
   "metadata": {},
   "outputs": [],
   "source": [
    "def run_one_gd_ising_continuous(lr, num_runs=25):\n",
    "    best_state = np.ones(lattice_shape)\n",
    "\n",
    "    x_inits_cont = [\n",
    "        np.random.uniform(low=-1.0, high=1.0, size=lattice_shape)\n",
    "        for _ in range(num_runs)\n",
    "    ]\n",
    "    x_inits_flat = [x.flatten() for x in x_inits_cont]\n",
    "\n",
    "    # Wrap f and grad_f to handle flattened input\n",
    "    relaxed_f = lambda x: relaxed_ising_energy(x.reshape(lattice_shape))\n",
    "    grad_wrapped = lambda x: grad_relaxed_ising(x.reshape(lattice_shape)).flatten()\n",
    "\n",
    "    result = bootstrap_experiment_ising(\n",
    "        algorithm_function=gradient_descent,\n",
    "        runs=num_runs,\n",
    "        f=relaxed_f,\n",
    "        grad_f=grad_wrapped,\n",
    "        dim=dim_ising,\n",
    "        x_inits=x_inits_flat,\n",
    "        is_discrete=False,\n",
    "        lr=lr,\n",
    "        max_iter=20000,\n",
    "        tol=1e-6,\n",
    "        f_star=-200.0,\n",
    "        init_range=(-1, 1)\n",
    "    )\n",
    "\n",
    "    stats = result[\"stats\"]\n",
    "    return {\n",
    "        \"algorithm\": \"GD_continuous\",\n",
    "        \"lr\": lr,\n",
    "        \"mean\": stats.get(\"mean\"),\n",
    "        \"best\": stats.get(\"best\"),\n",
    "        \"worst\": stats.get(\"worst\"),\n",
    "        \"std\": stats.get(\"std\"),\n",
    "        \"rmse\": stats.get(\"rmse\"),\n",
    "        \"mse\": stats.get(\"mse\"),\n",
    "        \"mean_runtime\": stats.get(\"mean_runtime\"),\n",
    "        \"mean_distance_to_x_star\": stats.get(\"mean_distance_to_x_star\")\n",
    "    }\n",
    "\n",
    "\n",
    "def grid_search_gd_ising_continuous(grid, num_runs=25):\n",
    "    results = []\n",
    "\n",
    "    for idx, lr in enumerate(tqdm(grid[\"lr\"]), 1):\n",
    "        print(f\"[{idx}/{len(grid['lr'])}] lr = {lr}\")\n",
    "        res = run_one_gd_ising_continuous(lr, num_runs)\n",
    "        results.append(res)\n",
    "\n",
    "    return pd.DataFrame(results)\n",
    "\n"
   ]
  },
  {
   "cell_type": "markdown",
   "id": "e55628d6",
   "metadata": {},
   "source": [
    "# Running actual Gridsearch"
   ]
  },
  {
   "cell_type": "code",
   "execution_count": 6,
   "id": "747876fb",
   "metadata": {},
   "outputs": [],
   "source": [
    "# print(\"\\nRunning SA-discrete on ising_energy\")\n",
    "# df_sa_discrete = grid_search_sa_discrete(sa_grid, num_runs=25)\n",
    "# df_sa_discrete.to_csv(os.path.join(results_dir, \"gridsearch_sa_discrete_ising_new.csv\"), index=False)"
   ]
  },
  {
   "cell_type": "code",
   "execution_count": 7,
   "id": "a365eb6c",
   "metadata": {},
   "outputs": [],
   "source": [
    "# print(\"\\nRunning SA-continuous on relaxed_ising\")\n",
    "# df_sa_continuous = grid_search_sa_continuous(sa_grid_cont, num_runs=25)\n",
    "# df_sa_continuous.to_csv(os.path.join(results_dir, \"gridsearch_sa_continuous_ising_new.csv\"), index=False)"
   ]
  },
  {
   "cell_type": "code",
   "execution_count": 8,
   "id": "078a6c83",
   "metadata": {},
   "outputs": [],
   "source": [
    "# print(\"\\nRunning GD on relaxed_ising_energy\")\n",
    "# df_gd = grid_search_gd_ising_continuous(gd_grid, num_runs=1)\n",
    "# df_gd.to_csv(os.path.join(results_dir, \"gridsearch_gd_continuous_ising_new.csv\"), index=False)"
   ]
  },
  {
   "cell_type": "markdown",
   "id": "a234790d",
   "metadata": {},
   "source": [
    "# Hybrid"
   ]
  },
  {
   "cell_type": "code",
   "execution_count": 10,
   "id": "f5276369",
   "metadata": {},
   "outputs": [],
   "source": [
    "# Define the grid\n",
    "hybrid_grid = {\n",
    "    'lr': [0.0001, 0.001, 0.01, 0.05, 0.1],\n",
    "    'sigma': [0.1, 0.5, 1.0, 2.0],\n",
    "    'T0': [0.01, 0.1, 1.0, 10.0]\n",
    "}"
   ]
  },
  {
   "cell_type": "code",
   "execution_count": 11,
   "id": "3530d884",
   "metadata": {},
   "outputs": [],
   "source": [
    "def run_one_hybrid_ising_relaxed(lr, sigma, T0, num_runs=25):\n",
    "    best_state = np.ones(lattice_shape)\n",
    "\n",
    "    # generate flat initializations\n",
    "    x_inits = [\n",
    "        np.random.uniform(low=-1.0, high=1.0, size=lattice_shape).flatten()\n",
    "        for _ in range(num_runs)\n",
    "    ]\n",
    "\n",
    "    # wrap the function and gradient\n",
    "    relaxed_f = lambda x: relaxed_ising_energy(x.reshape(lattice_shape))\n",
    "    grad_wrapped = lambda x: grad_relaxed_ising(x.reshape(lattice_shape)).flatten()\n",
    "\n",
    "    result = bootstrap_experiment_ising(\n",
    "        algorithm_function=sa_gd_hybrid,\n",
    "        f=relaxed_f,\n",
    "        grad_f=grad_wrapped,\n",
    "        runs=num_runs,\n",
    "        dim=dim_ising,\n",
    "        x_inits=x_inits,\n",
    "        is_discrete=False,\n",
    "        name=\"ising_relaxed\",\n",
    "        lr=lr,\n",
    "        sigma=sigma,\n",
    "        T0=T0,\n",
    "        max_iter=20000,\n",
    "        tol=1e-6,\n",
    "        f_star=-200.0,\n",
    "        init_range=(-1, 1),\n",
    "    )\n",
    "\n",
    "    stats = result[\"stats\"]\n",
    "    return {\n",
    "        \"algorithm\": \"Hybrid_SA_GD\",\n",
    "        \"lr\": lr,\n",
    "        \"sigma\": sigma,\n",
    "        \"T0\": T0,\n",
    "        \"mean\": stats.get(\"mean\"),\n",
    "        \"best\": stats.get(\"best\"),\n",
    "        \"worst\": stats.get(\"worst\"),\n",
    "        \"std\": stats.get(\"std\"),\n",
    "        \"rmse\": stats.get(\"rmse\"),\n",
    "        \"mse\": stats.get(\"mse\"),\n",
    "        \"rmed\": stats.get(\"rmed\"),\n",
    "        \"mean_runtime\": stats.get(\"mean_runtime\"),\n",
    "        \"mean_distance_to_x_star\": stats.get(\"mean_distance_to_x_star\")\n",
    "    }\n",
    "\n",
    "def grid_search_hybrid_ising_relaxed(grid, num_runs=25):\n",
    "    combos = list(itertools.product(grid[\"lr\"], grid[\"sigma\"], grid[\"T0\"]))\n",
    "    results = []\n",
    "\n",
    "    for idx, (lr, sigma, T0) in enumerate(tqdm(combos), 1):\n",
    "        print(f\"[{idx}/{len(combos)}] lr = {lr}, sigma = {sigma}, T0 = {T0}\")\n",
    "        res = run_one_hybrid_ising_relaxed(lr, sigma, T0, num_runs)\n",
    "        results.append(res)\n",
    "\n",
    "    return pd.DataFrame(results)\n"
   ]
  },
  {
   "cell_type": "code",
   "execution_count": 13,
   "id": "cc60fd98",
   "metadata": {},
   "outputs": [
    {
     "name": "stderr",
     "output_type": "stream",
     "text": [
      "  0%|          | 0/80 [00:00<?, ?it/s]"
     ]
    },
    {
     "name": "stdout",
     "output_type": "stream",
     "text": [
      "[1/80] lr = 0.0001, sigma = 0.1, T0 = 0.01\n",
      "[Ising Relaxed] Run 1/10\n",
      "[Ising Relaxed] Run 2/10\n",
      "[Ising Relaxed] Run 3/10\n",
      "[Ising Relaxed] Run 4/10\n",
      "[Ising Relaxed] Run 5/10\n",
      "[Ising Relaxed] Run 6/10\n",
      "[Ising Relaxed] Run 7/10\n",
      "[Ising Relaxed] Run 8/10\n",
      "[Ising Relaxed] Run 9/10\n",
      "[Ising Relaxed] Run 10/10\n"
     ]
    },
    {
     "name": "stderr",
     "output_type": "stream",
     "text": [
      "  1%|▏         | 1/80 [03:57<5:12:28, 237.32s/it]"
     ]
    },
    {
     "name": "stdout",
     "output_type": "stream",
     "text": [
      "[2/80] lr = 0.0001, sigma = 0.1, T0 = 0.1\n",
      "[Ising Relaxed] Run 1/10\n",
      "[Ising Relaxed] Run 2/10\n",
      "[Ising Relaxed] Run 3/10\n",
      "[Ising Relaxed] Run 4/10\n",
      "[Ising Relaxed] Run 5/10\n",
      "[Ising Relaxed] Run 6/10\n",
      "[Ising Relaxed] Run 7/10\n",
      "[Ising Relaxed] Run 8/10\n",
      "[Ising Relaxed] Run 9/10\n",
      "[Ising Relaxed] Run 10/10\n"
     ]
    },
    {
     "name": "stderr",
     "output_type": "stream",
     "text": [
      "  2%|▎         | 2/80 [07:12<4:35:58, 212.29s/it]"
     ]
    },
    {
     "name": "stdout",
     "output_type": "stream",
     "text": [
      "[3/80] lr = 0.0001, sigma = 0.1, T0 = 1.0\n",
      "[Ising Relaxed] Run 1/10\n",
      "[Ising Relaxed] Run 2/10\n",
      "[Ising Relaxed] Run 3/10\n",
      "[Ising Relaxed] Run 4/10\n",
      "[Ising Relaxed] Run 5/10\n",
      "[Ising Relaxed] Run 6/10\n",
      "[Ising Relaxed] Run 7/10\n",
      "[Ising Relaxed] Run 8/10\n",
      "[Ising Relaxed] Run 9/10\n",
      "[Ising Relaxed] Run 10/10\n"
     ]
    },
    {
     "name": "stderr",
     "output_type": "stream",
     "text": [
      "  4%|▍         | 3/80 [08:47<3:24:07, 159.06s/it]"
     ]
    },
    {
     "name": "stdout",
     "output_type": "stream",
     "text": [
      "[4/80] lr = 0.0001, sigma = 0.1, T0 = 10.0\n",
      "[Ising Relaxed] Run 1/10\n",
      "[Ising Relaxed] Run 2/10\n",
      "[Ising Relaxed] Run 3/10\n",
      "[Ising Relaxed] Run 4/10\n",
      "[Ising Relaxed] Run 5/10\n",
      "[Ising Relaxed] Run 6/10\n",
      "[Ising Relaxed] Run 7/10\n",
      "[Ising Relaxed] Run 8/10\n",
      "[Ising Relaxed] Run 9/10\n",
      "[Ising Relaxed] Run 10/10\n"
     ]
    },
    {
     "name": "stderr",
     "output_type": "stream",
     "text": [
      "  5%|▌         | 4/80 [10:08<2:42:08, 128.01s/it]"
     ]
    },
    {
     "name": "stdout",
     "output_type": "stream",
     "text": [
      "[5/80] lr = 0.0001, sigma = 0.5, T0 = 0.01\n",
      "[Ising Relaxed] Run 1/10\n",
      "[Ising Relaxed] Run 2/10\n",
      "[Ising Relaxed] Run 3/10\n",
      "[Ising Relaxed] Run 4/10\n",
      "[Ising Relaxed] Run 5/10\n",
      "[Ising Relaxed] Run 6/10\n",
      "[Ising Relaxed] Run 7/10\n",
      "[Ising Relaxed] Run 8/10\n",
      "[Ising Relaxed] Run 9/10\n",
      "[Ising Relaxed] Run 10/10\n"
     ]
    },
    {
     "name": "stderr",
     "output_type": "stream",
     "text": [
      "  6%|▋         | 5/80 [14:14<3:33:16, 170.62s/it]"
     ]
    },
    {
     "name": "stdout",
     "output_type": "stream",
     "text": [
      "[6/80] lr = 0.0001, sigma = 0.5, T0 = 0.1\n",
      "[Ising Relaxed] Run 1/10\n",
      "[Ising Relaxed] Run 2/10\n",
      "[Ising Relaxed] Run 3/10\n",
      "[Ising Relaxed] Run 4/10\n",
      "[Ising Relaxed] Run 5/10\n",
      "[Ising Relaxed] Run 6/10\n",
      "[Ising Relaxed] Run 7/10\n",
      "[Ising Relaxed] Run 8/10\n",
      "[Ising Relaxed] Run 9/10\n",
      "[Ising Relaxed] Run 10/10\n"
     ]
    },
    {
     "name": "stderr",
     "output_type": "stream",
     "text": [
      "  8%|▊         | 6/80 [18:04<3:55:21, 190.83s/it]"
     ]
    },
    {
     "name": "stdout",
     "output_type": "stream",
     "text": [
      "[7/80] lr = 0.0001, sigma = 0.5, T0 = 1.0\n",
      "[Ising Relaxed] Run 1/10\n",
      "[Ising Relaxed] Run 2/10\n",
      "[Ising Relaxed] Run 3/10\n",
      "[Ising Relaxed] Run 4/10\n",
      "[Ising Relaxed] Run 5/10\n",
      "[Ising Relaxed] Run 6/10\n",
      "[Ising Relaxed] Run 7/10\n",
      "[Ising Relaxed] Run 8/10\n",
      "[Ising Relaxed] Run 9/10\n",
      "[Ising Relaxed] Run 10/10\n"
     ]
    },
    {
     "name": "stderr",
     "output_type": "stream",
     "text": [
      "  9%|▉         | 7/80 [20:58<3:45:34, 185.41s/it]"
     ]
    },
    {
     "name": "stdout",
     "output_type": "stream",
     "text": [
      "[8/80] lr = 0.0001, sigma = 0.5, T0 = 10.0\n",
      "[Ising Relaxed] Run 1/10\n",
      "[Ising Relaxed] Run 2/10\n",
      "[Ising Relaxed] Run 3/10\n",
      "[Ising Relaxed] Run 4/10\n",
      "[Ising Relaxed] Run 5/10\n",
      "[Ising Relaxed] Run 6/10\n",
      "[Ising Relaxed] Run 7/10\n",
      "[Ising Relaxed] Run 8/10\n",
      "[Ising Relaxed] Run 9/10\n",
      "[Ising Relaxed] Run 10/10\n"
     ]
    },
    {
     "name": "stderr",
     "output_type": "stream",
     "text": [
      " 10%|█         | 8/80 [22:26<3:05:02, 154.21s/it]"
     ]
    },
    {
     "name": "stdout",
     "output_type": "stream",
     "text": [
      "[9/80] lr = 0.0001, sigma = 1.0, T0 = 0.01\n",
      "[Ising Relaxed] Run 1/10\n",
      "[Ising Relaxed] Run 2/10\n",
      "[Ising Relaxed] Run 3/10\n",
      "[Ising Relaxed] Run 4/10\n",
      "[Ising Relaxed] Run 5/10\n",
      "[Ising Relaxed] Run 6/10\n",
      "[Ising Relaxed] Run 7/10\n",
      "[Ising Relaxed] Run 8/10\n",
      "[Ising Relaxed] Run 9/10\n",
      "[Ising Relaxed] Run 10/10\n"
     ]
    },
    {
     "name": "stderr",
     "output_type": "stream",
     "text": [
      " 11%|█▏        | 9/80 [26:18<3:31:13, 178.50s/it]"
     ]
    },
    {
     "name": "stdout",
     "output_type": "stream",
     "text": [
      "[10/80] lr = 0.0001, sigma = 1.0, T0 = 0.1\n",
      "[Ising Relaxed] Run 1/10\n",
      "[Ising Relaxed] Run 2/10\n",
      "[Ising Relaxed] Run 3/10\n",
      "[Ising Relaxed] Run 4/10\n",
      "[Ising Relaxed] Run 5/10\n",
      "[Ising Relaxed] Run 6/10\n",
      "[Ising Relaxed] Run 7/10\n",
      "[Ising Relaxed] Run 8/10\n",
      "[Ising Relaxed] Run 9/10\n",
      "[Ising Relaxed] Run 10/10\n"
     ]
    },
    {
     "name": "stderr",
     "output_type": "stream",
     "text": [
      " 12%|█▎        | 10/80 [30:21<3:51:32, 198.46s/it]"
     ]
    },
    {
     "name": "stdout",
     "output_type": "stream",
     "text": [
      "[11/80] lr = 0.0001, sigma = 1.0, T0 = 1.0\n",
      "[Ising Relaxed] Run 1/10\n",
      "[Ising Relaxed] Run 2/10\n",
      "[Ising Relaxed] Run 3/10\n",
      "[Ising Relaxed] Run 4/10\n",
      "[Ising Relaxed] Run 5/10\n",
      "[Ising Relaxed] Run 6/10\n",
      "[Ising Relaxed] Run 7/10\n",
      "[Ising Relaxed] Run 8/10\n",
      "[Ising Relaxed] Run 9/10\n",
      "[Ising Relaxed] Run 10/10\n"
     ]
    },
    {
     "name": "stderr",
     "output_type": "stream",
     "text": [
      " 14%|█▍        | 11/80 [33:48<3:51:18, 201.14s/it]"
     ]
    },
    {
     "name": "stdout",
     "output_type": "stream",
     "text": [
      "[12/80] lr = 0.0001, sigma = 1.0, T0 = 10.0\n",
      "[Ising Relaxed] Run 1/10\n",
      "[Ising Relaxed] Run 2/10\n",
      "[Ising Relaxed] Run 3/10\n",
      "[Ising Relaxed] Run 4/10\n",
      "[Ising Relaxed] Run 5/10\n",
      "[Ising Relaxed] Run 6/10\n",
      "[Ising Relaxed] Run 7/10\n",
      "[Ising Relaxed] Run 8/10\n",
      "[Ising Relaxed] Run 9/10\n",
      "[Ising Relaxed] Run 10/10\n"
     ]
    },
    {
     "name": "stderr",
     "output_type": "stream",
     "text": [
      " 15%|█▌        | 12/80 [35:16<3:08:57, 166.73s/it]"
     ]
    },
    {
     "name": "stdout",
     "output_type": "stream",
     "text": [
      "[13/80] lr = 0.0001, sigma = 2.0, T0 = 0.01\n",
      "[Ising Relaxed] Run 1/10\n",
      "[Ising Relaxed] Run 2/10\n",
      "[Ising Relaxed] Run 3/10\n",
      "[Ising Relaxed] Run 4/10\n",
      "[Ising Relaxed] Run 5/10\n",
      "[Ising Relaxed] Run 6/10\n",
      "[Ising Relaxed] Run 7/10\n",
      "[Ising Relaxed] Run 8/10\n",
      "[Ising Relaxed] Run 9/10\n",
      "[Ising Relaxed] Run 10/10\n"
     ]
    },
    {
     "name": "stderr",
     "output_type": "stream",
     "text": [
      " 16%|█▋        | 13/80 [38:57<3:24:43, 183.33s/it]"
     ]
    },
    {
     "name": "stdout",
     "output_type": "stream",
     "text": [
      "[14/80] lr = 0.0001, sigma = 2.0, T0 = 0.1\n",
      "[Ising Relaxed] Run 1/10\n",
      "[Ising Relaxed] Run 2/10\n",
      "[Ising Relaxed] Run 3/10\n",
      "[Ising Relaxed] Run 4/10\n",
      "[Ising Relaxed] Run 5/10\n",
      "[Ising Relaxed] Run 6/10\n",
      "[Ising Relaxed] Run 7/10\n",
      "[Ising Relaxed] Run 8/10\n",
      "[Ising Relaxed] Run 9/10\n",
      "[Ising Relaxed] Run 10/10\n"
     ]
    },
    {
     "name": "stderr",
     "output_type": "stream",
     "text": [
      " 18%|█▊        | 14/80 [42:49<3:37:32, 197.76s/it]"
     ]
    },
    {
     "name": "stdout",
     "output_type": "stream",
     "text": [
      "[15/80] lr = 0.0001, sigma = 2.0, T0 = 1.0\n",
      "[Ising Relaxed] Run 1/10\n",
      "[Ising Relaxed] Run 2/10\n",
      "[Ising Relaxed] Run 3/10\n",
      "[Ising Relaxed] Run 4/10\n",
      "[Ising Relaxed] Run 5/10\n",
      "[Ising Relaxed] Run 6/10\n",
      "[Ising Relaxed] Run 7/10\n",
      "[Ising Relaxed] Run 8/10\n",
      "[Ising Relaxed] Run 9/10\n",
      "[Ising Relaxed] Run 10/10\n"
     ]
    },
    {
     "name": "stderr",
     "output_type": "stream",
     "text": [
      " 19%|█▉        | 15/80 [47:01<3:51:57, 214.11s/it]"
     ]
    },
    {
     "name": "stdout",
     "output_type": "stream",
     "text": [
      "[16/80] lr = 0.0001, sigma = 2.0, T0 = 10.0\n",
      "[Ising Relaxed] Run 1/10\n",
      "[Ising Relaxed] Run 2/10\n",
      "[Ising Relaxed] Run 3/10\n",
      "[Ising Relaxed] Run 4/10\n",
      "[Ising Relaxed] Run 5/10\n",
      "[Ising Relaxed] Run 6/10\n",
      "[Ising Relaxed] Run 7/10\n",
      "[Ising Relaxed] Run 8/10\n",
      "[Ising Relaxed] Run 9/10\n",
      "[Ising Relaxed] Run 10/10\n"
     ]
    },
    {
     "name": "stderr",
     "output_type": "stream",
     "text": [
      " 20%|██        | 16/80 [48:42<3:12:05, 180.08s/it]"
     ]
    },
    {
     "name": "stdout",
     "output_type": "stream",
     "text": [
      "[17/80] lr = 0.001, sigma = 0.1, T0 = 0.01\n",
      "[Ising Relaxed] Run 1/10\n",
      "[Ising Relaxed] Run 2/10\n",
      "[Ising Relaxed] Run 3/10\n",
      "[Ising Relaxed] Run 4/10\n",
      "[Ising Relaxed] Run 5/10\n",
      "[Ising Relaxed] Run 6/10\n",
      "[Ising Relaxed] Run 7/10\n",
      "[Ising Relaxed] Run 8/10\n",
      "[Ising Relaxed] Run 9/10\n",
      "[Ising Relaxed] Run 10/10\n"
     ]
    },
    {
     "name": "stderr",
     "output_type": "stream",
     "text": [
      " 21%|██▏       | 17/80 [52:36<3:26:08, 196.32s/it]"
     ]
    },
    {
     "name": "stdout",
     "output_type": "stream",
     "text": [
      "[18/80] lr = 0.001, sigma = 0.1, T0 = 0.1\n",
      "[Ising Relaxed] Run 1/10\n",
      "[Ising Relaxed] Run 2/10\n",
      "[Ising Relaxed] Run 3/10\n",
      "[Ising Relaxed] Run 4/10\n",
      "[Ising Relaxed] Run 5/10\n",
      "[Ising Relaxed] Run 6/10\n",
      "[Ising Relaxed] Run 7/10\n",
      "[Ising Relaxed] Run 8/10\n",
      "[Ising Relaxed] Run 9/10\n",
      "[Ising Relaxed] Run 10/10\n"
     ]
    },
    {
     "name": "stderr",
     "output_type": "stream",
     "text": [
      " 22%|██▎       | 18/80 [53:13<2:33:23, 148.44s/it]"
     ]
    },
    {
     "name": "stdout",
     "output_type": "stream",
     "text": [
      "[19/80] lr = 0.001, sigma = 0.1, T0 = 1.0\n",
      "[Ising Relaxed] Run 1/10\n",
      "[Ising Relaxed] Run 2/10\n",
      "[Ising Relaxed] Run 3/10\n",
      "[Ising Relaxed] Run 4/10\n",
      "[Ising Relaxed] Run 5/10\n",
      "[Ising Relaxed] Run 6/10\n",
      "[Ising Relaxed] Run 7/10\n",
      "[Ising Relaxed] Run 8/10\n",
      "[Ising Relaxed] Run 9/10\n",
      "[Ising Relaxed] Run 10/10\n"
     ]
    },
    {
     "name": "stderr",
     "output_type": "stream",
     "text": [
      " 24%|██▍       | 19/80 [53:24<1:49:08, 107.35s/it]"
     ]
    },
    {
     "name": "stdout",
     "output_type": "stream",
     "text": [
      "[20/80] lr = 0.001, sigma = 0.1, T0 = 10.0\n",
      "[Ising Relaxed] Run 1/10\n",
      "[Ising Relaxed] Run 2/10\n",
      "[Ising Relaxed] Run 3/10\n",
      "[Ising Relaxed] Run 4/10\n",
      "[Ising Relaxed] Run 5/10\n",
      "[Ising Relaxed] Run 6/10\n",
      "[Ising Relaxed] Run 7/10\n",
      "[Ising Relaxed] Run 8/10\n",
      "[Ising Relaxed] Run 9/10\n",
      "[Ising Relaxed] Run 10/10\n"
     ]
    },
    {
     "name": "stderr",
     "output_type": "stream",
     "text": [
      " 25%|██▌       | 20/80 [53:34<1:17:53, 77.90s/it] "
     ]
    },
    {
     "name": "stdout",
     "output_type": "stream",
     "text": [
      "[21/80] lr = 0.001, sigma = 0.5, T0 = 0.01\n",
      "[Ising Relaxed] Run 1/10\n",
      "[Ising Relaxed] Run 2/10\n",
      "[Ising Relaxed] Run 3/10\n",
      "[Ising Relaxed] Run 4/10\n",
      "[Ising Relaxed] Run 5/10\n",
      "[Ising Relaxed] Run 6/10\n",
      "[Ising Relaxed] Run 7/10\n",
      "[Ising Relaxed] Run 8/10\n",
      "[Ising Relaxed] Run 9/10\n",
      "[Ising Relaxed] Run 10/10\n"
     ]
    },
    {
     "name": "stderr",
     "output_type": "stream",
     "text": [
      " 26%|██▋       | 21/80 [57:21<2:00:43, 122.78s/it]"
     ]
    },
    {
     "name": "stdout",
     "output_type": "stream",
     "text": [
      "[22/80] lr = 0.001, sigma = 0.5, T0 = 0.1\n",
      "[Ising Relaxed] Run 1/10\n",
      "[Ising Relaxed] Run 2/10\n",
      "[Ising Relaxed] Run 3/10\n",
      "[Ising Relaxed] Run 4/10\n",
      "[Ising Relaxed] Run 5/10\n",
      "[Ising Relaxed] Run 6/10\n",
      "[Ising Relaxed] Run 7/10\n",
      "[Ising Relaxed] Run 8/10\n",
      "[Ising Relaxed] Run 9/10\n",
      "[Ising Relaxed] Run 10/10\n"
     ]
    },
    {
     "name": "stderr",
     "output_type": "stream",
     "text": [
      " 28%|██▊       | 22/80 [1:01:10<2:29:34, 154.74s/it]"
     ]
    },
    {
     "name": "stdout",
     "output_type": "stream",
     "text": [
      "[23/80] lr = 0.001, sigma = 0.5, T0 = 1.0\n",
      "[Ising Relaxed] Run 1/10\n",
      "[Ising Relaxed] Run 2/10\n",
      "[Ising Relaxed] Run 3/10\n",
      "[Ising Relaxed] Run 4/10\n",
      "[Ising Relaxed] Run 5/10\n",
      "[Ising Relaxed] Run 6/10\n",
      "[Ising Relaxed] Run 7/10\n",
      "[Ising Relaxed] Run 8/10\n",
      "[Ising Relaxed] Run 9/10\n",
      "[Ising Relaxed] Run 10/10\n"
     ]
    },
    {
     "name": "stderr",
     "output_type": "stream",
     "text": [
      " 29%|██▉       | 23/80 [1:01:27<1:47:48, 113.48s/it]"
     ]
    },
    {
     "name": "stdout",
     "output_type": "stream",
     "text": [
      "[24/80] lr = 0.001, sigma = 0.5, T0 = 10.0\n",
      "[Ising Relaxed] Run 1/10\n",
      "[Ising Relaxed] Run 2/10\n",
      "[Ising Relaxed] Run 3/10\n",
      "[Ising Relaxed] Run 4/10\n",
      "[Ising Relaxed] Run 5/10\n",
      "[Ising Relaxed] Run 6/10\n",
      "[Ising Relaxed] Run 7/10\n",
      "[Ising Relaxed] Run 8/10\n",
      "[Ising Relaxed] Run 9/10\n",
      "[Ising Relaxed] Run 10/10\n"
     ]
    },
    {
     "name": "stderr",
     "output_type": "stream",
     "text": [
      " 30%|███       | 24/80 [1:01:38<1:17:05, 82.60s/it] "
     ]
    },
    {
     "name": "stdout",
     "output_type": "stream",
     "text": [
      "[25/80] lr = 0.001, sigma = 1.0, T0 = 0.01\n",
      "[Ising Relaxed] Run 1/10\n",
      "[Ising Relaxed] Run 2/10\n",
      "[Ising Relaxed] Run 3/10\n",
      "[Ising Relaxed] Run 4/10\n",
      "[Ising Relaxed] Run 5/10\n",
      "[Ising Relaxed] Run 6/10\n",
      "[Ising Relaxed] Run 7/10\n",
      "[Ising Relaxed] Run 8/10\n",
      "[Ising Relaxed] Run 9/10\n",
      "[Ising Relaxed] Run 10/10\n"
     ]
    },
    {
     "name": "stderr",
     "output_type": "stream",
     "text": [
      " 31%|███▏      | 25/80 [1:05:27<1:55:54, 126.45s/it]"
     ]
    },
    {
     "name": "stdout",
     "output_type": "stream",
     "text": [
      "[26/80] lr = 0.001, sigma = 1.0, T0 = 0.1\n",
      "[Ising Relaxed] Run 1/10\n",
      "[Ising Relaxed] Run 2/10\n",
      "[Ising Relaxed] Run 3/10\n",
      "[Ising Relaxed] Run 4/10\n",
      "[Ising Relaxed] Run 5/10\n",
      "[Ising Relaxed] Run 6/10\n",
      "[Ising Relaxed] Run 7/10\n",
      "[Ising Relaxed] Run 8/10\n",
      "[Ising Relaxed] Run 9/10\n",
      "[Ising Relaxed] Run 10/10\n"
     ]
    },
    {
     "name": "stderr",
     "output_type": "stream",
     "text": [
      " 32%|███▎      | 26/80 [1:09:31<2:25:32, 161.72s/it]"
     ]
    },
    {
     "name": "stdout",
     "output_type": "stream",
     "text": [
      "[27/80] lr = 0.001, sigma = 1.0, T0 = 1.0\n",
      "[Ising Relaxed] Run 1/10\n",
      "[Ising Relaxed] Run 2/10\n",
      "[Ising Relaxed] Run 3/10\n",
      "[Ising Relaxed] Run 4/10\n",
      "[Ising Relaxed] Run 5/10\n",
      "[Ising Relaxed] Run 6/10\n",
      "[Ising Relaxed] Run 7/10\n",
      "[Ising Relaxed] Run 8/10\n",
      "[Ising Relaxed] Run 9/10\n",
      "[Ising Relaxed] Run 10/10\n"
     ]
    },
    {
     "name": "stderr",
     "output_type": "stream",
     "text": [
      " 34%|███▍      | 27/80 [1:10:53<2:01:39, 137.72s/it]"
     ]
    },
    {
     "name": "stdout",
     "output_type": "stream",
     "text": [
      "[28/80] lr = 0.001, sigma = 1.0, T0 = 10.0\n",
      "[Ising Relaxed] Run 1/10\n",
      "[Ising Relaxed] Run 2/10\n",
      "[Ising Relaxed] Run 3/10\n",
      "[Ising Relaxed] Run 4/10\n",
      "[Ising Relaxed] Run 5/10\n",
      "[Ising Relaxed] Run 6/10\n",
      "[Ising Relaxed] Run 7/10\n",
      "[Ising Relaxed] Run 8/10\n",
      "[Ising Relaxed] Run 9/10\n",
      "[Ising Relaxed] Run 10/10\n"
     ]
    },
    {
     "name": "stderr",
     "output_type": "stream",
     "text": [
      " 35%|███▌      | 28/80 [1:11:04<1:26:32, 99.85s/it] "
     ]
    },
    {
     "name": "stdout",
     "output_type": "stream",
     "text": [
      "[29/80] lr = 0.001, sigma = 2.0, T0 = 0.01\n",
      "[Ising Relaxed] Run 1/10\n",
      "[Ising Relaxed] Run 2/10\n",
      "[Ising Relaxed] Run 3/10\n",
      "[Ising Relaxed] Run 4/10\n",
      "[Ising Relaxed] Run 5/10\n",
      "[Ising Relaxed] Run 6/10\n",
      "[Ising Relaxed] Run 7/10\n",
      "[Ising Relaxed] Run 8/10\n",
      "[Ising Relaxed] Run 9/10\n",
      "[Ising Relaxed] Run 10/10\n"
     ]
    },
    {
     "name": "stderr",
     "output_type": "stream",
     "text": [
      " 36%|███▋      | 29/80 [1:15:53<2:13:06, 156.61s/it]"
     ]
    },
    {
     "name": "stdout",
     "output_type": "stream",
     "text": [
      "[30/80] lr = 0.001, sigma = 2.0, T0 = 0.1\n",
      "[Ising Relaxed] Run 1/10\n",
      "[Ising Relaxed] Run 2/10\n",
      "[Ising Relaxed] Run 3/10\n",
      "[Ising Relaxed] Run 4/10\n",
      "[Ising Relaxed] Run 5/10\n",
      "[Ising Relaxed] Run 6/10\n",
      "[Ising Relaxed] Run 7/10\n",
      "[Ising Relaxed] Run 8/10\n",
      "[Ising Relaxed] Run 9/10\n",
      "[Ising Relaxed] Run 10/10\n"
     ]
    },
    {
     "name": "stderr",
     "output_type": "stream",
     "text": [
      " 38%|███▊      | 30/80 [1:20:49<2:45:19, 198.39s/it]"
     ]
    },
    {
     "name": "stdout",
     "output_type": "stream",
     "text": [
      "[31/80] lr = 0.001, sigma = 2.0, T0 = 1.0\n",
      "[Ising Relaxed] Run 1/10\n",
      "[Ising Relaxed] Run 2/10\n",
      "[Ising Relaxed] Run 3/10\n",
      "[Ising Relaxed] Run 4/10\n",
      "[Ising Relaxed] Run 5/10\n",
      "[Ising Relaxed] Run 6/10\n",
      "[Ising Relaxed] Run 7/10\n",
      "[Ising Relaxed] Run 8/10\n",
      "[Ising Relaxed] Run 9/10\n",
      "[Ising Relaxed] Run 10/10\n"
     ]
    },
    {
     "name": "stderr",
     "output_type": "stream",
     "text": [
      " 39%|███▉      | 31/80 [1:25:41<3:04:51, 226.36s/it]"
     ]
    },
    {
     "name": "stdout",
     "output_type": "stream",
     "text": [
      "[32/80] lr = 0.001, sigma = 2.0, T0 = 10.0\n",
      "[Ising Relaxed] Run 1/10\n",
      "[Ising Relaxed] Run 2/10\n",
      "[Ising Relaxed] Run 3/10\n",
      "[Ising Relaxed] Run 4/10\n",
      "[Ising Relaxed] Run 5/10\n",
      "[Ising Relaxed] Run 6/10\n",
      "[Ising Relaxed] Run 7/10\n",
      "[Ising Relaxed] Run 8/10\n",
      "[Ising Relaxed] Run 9/10\n",
      "[Ising Relaxed] Run 10/10\n"
     ]
    },
    {
     "name": "stderr",
     "output_type": "stream",
     "text": [
      " 40%|████      | 32/80 [1:25:56<2:10:27, 163.06s/it]"
     ]
    },
    {
     "name": "stdout",
     "output_type": "stream",
     "text": [
      "[33/80] lr = 0.01, sigma = 0.1, T0 = 0.01\n",
      "[Ising Relaxed] Run 1/10\n",
      "[Ising Relaxed] Run 2/10\n",
      "[Ising Relaxed] Run 3/10\n",
      "[Ising Relaxed] Run 4/10\n",
      "[Ising Relaxed] Run 5/10\n",
      "[Ising Relaxed] Run 6/10\n",
      "[Ising Relaxed] Run 7/10\n",
      "[Ising Relaxed] Run 8/10\n",
      "[Ising Relaxed] Run 9/10\n",
      "[Ising Relaxed] Run 10/10\n"
     ]
    },
    {
     "name": "stderr",
     "output_type": "stream",
     "text": [
      " 41%|████▏     | 33/80 [1:30:47<2:37:48, 201.45s/it]"
     ]
    },
    {
     "name": "stdout",
     "output_type": "stream",
     "text": [
      "[34/80] lr = 0.01, sigma = 0.1, T0 = 0.1\n",
      "[Ising Relaxed] Run 1/10\n",
      "[Ising Relaxed] Run 2/10\n",
      "[Ising Relaxed] Run 3/10\n",
      "[Ising Relaxed] Run 4/10\n",
      "[Ising Relaxed] Run 5/10\n",
      "[Ising Relaxed] Run 6/10\n",
      "[Ising Relaxed] Run 7/10\n",
      "[Ising Relaxed] Run 8/10\n",
      "[Ising Relaxed] Run 9/10\n",
      "[Ising Relaxed] Run 10/10\n"
     ]
    },
    {
     "name": "stderr",
     "output_type": "stream",
     "text": [
      " 42%|████▎     | 34/80 [1:31:35<1:59:09, 155.41s/it]"
     ]
    },
    {
     "name": "stdout",
     "output_type": "stream",
     "text": [
      "[35/80] lr = 0.01, sigma = 0.1, T0 = 1.0\n",
      "[Ising Relaxed] Run 1/10\n",
      "[Ising Relaxed] Run 2/10\n",
      "[Ising Relaxed] Run 3/10\n",
      "[Ising Relaxed] Run 4/10\n",
      "[Ising Relaxed] Run 5/10\n",
      "[Ising Relaxed] Run 6/10\n",
      "[Ising Relaxed] Run 7/10\n",
      "[Ising Relaxed] Run 8/10\n",
      "[Ising Relaxed] Run 9/10\n",
      "[Ising Relaxed] Run 10/10\n"
     ]
    },
    {
     "name": "stderr",
     "output_type": "stream",
     "text": [
      " 44%|████▍     | 35/80 [1:31:37<1:22:00, 109.34s/it]"
     ]
    },
    {
     "name": "stdout",
     "output_type": "stream",
     "text": [
      "[36/80] lr = 0.01, sigma = 0.1, T0 = 10.0\n",
      "[Ising Relaxed] Run 1/10\n",
      "[Ising Relaxed] Run 2/10\n",
      "[Ising Relaxed] Run 3/10\n",
      "[Ising Relaxed] Run 4/10\n",
      "[Ising Relaxed] Run 5/10\n",
      "[Ising Relaxed] Run 6/10\n",
      "[Ising Relaxed] Run 7/10\n",
      "[Ising Relaxed] Run 8/10\n",
      "[Ising Relaxed] Run 9/10\n",
      "[Ising Relaxed] Run 10/10\n"
     ]
    },
    {
     "name": "stderr",
     "output_type": "stream",
     "text": [
      " 45%|████▌     | 36/80 [1:31:38<56:27, 76.99s/it]   "
     ]
    },
    {
     "name": "stdout",
     "output_type": "stream",
     "text": [
      "[37/80] lr = 0.01, sigma = 0.5, T0 = 0.01\n",
      "[Ising Relaxed] Run 1/10\n",
      "[Ising Relaxed] Run 2/10\n",
      "[Ising Relaxed] Run 3/10\n",
      "[Ising Relaxed] Run 4/10\n",
      "[Ising Relaxed] Run 5/10\n",
      "[Ising Relaxed] Run 6/10\n",
      "[Ising Relaxed] Run 7/10\n",
      "[Ising Relaxed] Run 8/10\n",
      "[Ising Relaxed] Run 9/10\n",
      "[Ising Relaxed] Run 10/10\n"
     ]
    },
    {
     "name": "stderr",
     "output_type": "stream",
     "text": [
      " 46%|████▋     | 37/80 [1:36:44<1:44:17, 145.52s/it]"
     ]
    },
    {
     "name": "stdout",
     "output_type": "stream",
     "text": [
      "[38/80] lr = 0.01, sigma = 0.5, T0 = 0.1\n",
      "[Ising Relaxed] Run 1/10\n",
      "[Ising Relaxed] Run 2/10\n",
      "[Ising Relaxed] Run 3/10\n",
      "[Ising Relaxed] Run 4/10\n",
      "[Ising Relaxed] Run 5/10\n",
      "[Ising Relaxed] Run 6/10\n",
      "[Ising Relaxed] Run 7/10\n",
      "[Ising Relaxed] Run 8/10\n",
      "[Ising Relaxed] Run 9/10\n",
      "[Ising Relaxed] Run 10/10\n"
     ]
    },
    {
     "name": "stderr",
     "output_type": "stream",
     "text": [
      " 48%|████▊     | 38/80 [1:42:25<2:22:55, 204.18s/it]"
     ]
    },
    {
     "name": "stdout",
     "output_type": "stream",
     "text": [
      "[39/80] lr = 0.01, sigma = 0.5, T0 = 1.0\n",
      "[Ising Relaxed] Run 1/10\n",
      "[Ising Relaxed] Run 2/10\n",
      "[Ising Relaxed] Run 3/10\n",
      "[Ising Relaxed] Run 4/10\n",
      "[Ising Relaxed] Run 5/10\n",
      "[Ising Relaxed] Run 6/10\n",
      "[Ising Relaxed] Run 7/10\n",
      "[Ising Relaxed] Run 8/10\n",
      "[Ising Relaxed] Run 9/10\n",
      "[Ising Relaxed] Run 10/10\n"
     ]
    },
    {
     "name": "stderr",
     "output_type": "stream",
     "text": [
      " 49%|████▉     | 39/80 [1:42:32<1:39:09, 145.10s/it]"
     ]
    },
    {
     "name": "stdout",
     "output_type": "stream",
     "text": [
      "[40/80] lr = 0.01, sigma = 0.5, T0 = 10.0\n",
      "[Ising Relaxed] Run 1/10\n",
      "[Ising Relaxed] Run 2/10\n",
      "[Ising Relaxed] Run 3/10\n",
      "[Ising Relaxed] Run 4/10\n",
      "[Ising Relaxed] Run 5/10\n",
      "[Ising Relaxed] Run 6/10\n",
      "[Ising Relaxed] Run 7/10\n",
      "[Ising Relaxed] Run 8/10\n",
      "[Ising Relaxed] Run 9/10\n",
      "[Ising Relaxed] Run 10/10\n"
     ]
    },
    {
     "name": "stderr",
     "output_type": "stream",
     "text": [
      " 50%|█████     | 40/80 [1:42:34<1:08:06, 102.17s/it]"
     ]
    },
    {
     "name": "stdout",
     "output_type": "stream",
     "text": [
      "[41/80] lr = 0.01, sigma = 1.0, T0 = 0.01\n",
      "[Ising Relaxed] Run 1/10\n",
      "[Ising Relaxed] Run 2/10\n",
      "[Ising Relaxed] Run 3/10\n",
      "[Ising Relaxed] Run 4/10\n",
      "[Ising Relaxed] Run 5/10\n",
      "[Ising Relaxed] Run 6/10\n",
      "[Ising Relaxed] Run 7/10\n",
      "[Ising Relaxed] Run 8/10\n",
      "[Ising Relaxed] Run 9/10\n",
      "[Ising Relaxed] Run 10/10\n"
     ]
    },
    {
     "name": "stderr",
     "output_type": "stream",
     "text": [
      " 51%|█████▏    | 41/80 [1:48:22<1:54:19, 175.89s/it]"
     ]
    },
    {
     "name": "stdout",
     "output_type": "stream",
     "text": [
      "[42/80] lr = 0.01, sigma = 1.0, T0 = 0.1\n",
      "[Ising Relaxed] Run 1/10\n",
      "[Ising Relaxed] Run 2/10\n",
      "[Ising Relaxed] Run 3/10\n",
      "[Ising Relaxed] Run 4/10\n",
      "[Ising Relaxed] Run 5/10\n",
      "[Ising Relaxed] Run 6/10\n",
      "[Ising Relaxed] Run 7/10\n",
      "[Ising Relaxed] Run 8/10\n",
      "[Ising Relaxed] Run 9/10\n",
      "[Ising Relaxed] Run 10/10\n"
     ]
    },
    {
     "name": "stderr",
     "output_type": "stream",
     "text": [
      " 52%|█████▎    | 42/80 [1:53:40<2:18:20, 218.44s/it]"
     ]
    },
    {
     "name": "stdout",
     "output_type": "stream",
     "text": [
      "[43/80] lr = 0.01, sigma = 1.0, T0 = 1.0\n",
      "[Ising Relaxed] Run 1/10\n",
      "[Ising Relaxed] Run 2/10\n",
      "[Ising Relaxed] Run 3/10\n",
      "[Ising Relaxed] Run 4/10\n",
      "[Ising Relaxed] Run 5/10\n",
      "[Ising Relaxed] Run 6/10\n",
      "[Ising Relaxed] Run 7/10\n",
      "[Ising Relaxed] Run 8/10\n",
      "[Ising Relaxed] Run 9/10\n",
      "[Ising Relaxed] Run 10/10\n"
     ]
    },
    {
     "name": "stderr",
     "output_type": "stream",
     "text": [
      " 54%|█████▍    | 43/80 [1:55:08<1:50:41, 179.49s/it]"
     ]
    },
    {
     "name": "stdout",
     "output_type": "stream",
     "text": [
      "[44/80] lr = 0.01, sigma = 1.0, T0 = 10.0\n",
      "[Ising Relaxed] Run 1/10\n",
      "[Ising Relaxed] Run 2/10\n",
      "[Ising Relaxed] Run 3/10\n",
      "[Ising Relaxed] Run 4/10\n",
      "[Ising Relaxed] Run 5/10\n",
      "[Ising Relaxed] Run 6/10\n",
      "[Ising Relaxed] Run 7/10\n",
      "[Ising Relaxed] Run 8/10\n",
      "[Ising Relaxed] Run 9/10\n",
      "[Ising Relaxed] Run 10/10\n"
     ]
    },
    {
     "name": "stderr",
     "output_type": "stream",
     "text": [
      " 55%|█████▌    | 44/80 [1:55:11<1:15:48, 126.34s/it]"
     ]
    },
    {
     "name": "stdout",
     "output_type": "stream",
     "text": [
      "[45/80] lr = 0.01, sigma = 2.0, T0 = 0.01\n",
      "[Ising Relaxed] Run 1/10\n",
      "[Ising Relaxed] Run 2/10\n",
      "[Ising Relaxed] Run 3/10\n",
      "[Ising Relaxed] Run 4/10\n",
      "[Ising Relaxed] Run 5/10\n",
      "[Ising Relaxed] Run 6/10\n",
      "[Ising Relaxed] Run 7/10\n",
      "[Ising Relaxed] Run 8/10\n",
      "[Ising Relaxed] Run 9/10\n",
      "[Ising Relaxed] Run 10/10\n"
     ]
    },
    {
     "name": "stderr",
     "output_type": "stream",
     "text": [
      " 56%|█████▋    | 45/80 [1:59:56<1:41:33, 174.11s/it]"
     ]
    },
    {
     "name": "stdout",
     "output_type": "stream",
     "text": [
      "[46/80] lr = 0.01, sigma = 2.0, T0 = 0.1\n",
      "[Ising Relaxed] Run 1/10\n",
      "[Ising Relaxed] Run 2/10\n",
      "[Ising Relaxed] Run 3/10\n",
      "[Ising Relaxed] Run 4/10\n",
      "[Ising Relaxed] Run 5/10\n",
      "[Ising Relaxed] Run 6/10\n",
      "[Ising Relaxed] Run 7/10\n",
      "[Ising Relaxed] Run 8/10\n",
      "[Ising Relaxed] Run 9/10\n",
      "[Ising Relaxed] Run 10/10\n"
     ]
    },
    {
     "name": "stderr",
     "output_type": "stream",
     "text": [
      " 57%|█████▊    | 46/80 [2:04:33<1:56:12, 205.07s/it]"
     ]
    },
    {
     "name": "stdout",
     "output_type": "stream",
     "text": [
      "[47/80] lr = 0.01, sigma = 2.0, T0 = 1.0\n",
      "[Ising Relaxed] Run 1/10\n",
      "[Ising Relaxed] Run 2/10\n",
      "[Ising Relaxed] Run 3/10\n",
      "[Ising Relaxed] Run 4/10\n",
      "[Ising Relaxed] Run 5/10\n",
      "[Ising Relaxed] Run 6/10\n",
      "[Ising Relaxed] Run 7/10\n",
      "[Ising Relaxed] Run 8/10\n",
      "[Ising Relaxed] Run 9/10\n",
      "[Ising Relaxed] Run 10/10\n"
     ]
    },
    {
     "name": "stderr",
     "output_type": "stream",
     "text": [
      " 59%|█████▉    | 47/80 [2:10:11<2:14:38, 244.79s/it]"
     ]
    },
    {
     "name": "stdout",
     "output_type": "stream",
     "text": [
      "[48/80] lr = 0.01, sigma = 2.0, T0 = 10.0\n",
      "[Ising Relaxed] Run 1/10\n",
      "[Ising Relaxed] Run 2/10\n",
      "[Ising Relaxed] Run 3/10\n",
      "[Ising Relaxed] Run 4/10\n",
      "[Ising Relaxed] Run 5/10\n",
      "[Ising Relaxed] Run 6/10\n",
      "[Ising Relaxed] Run 7/10\n",
      "[Ising Relaxed] Run 8/10\n",
      "[Ising Relaxed] Run 9/10\n",
      "[Ising Relaxed] Run 10/10\n"
     ]
    },
    {
     "name": "stderr",
     "output_type": "stream",
     "text": [
      " 60%|██████    | 48/80 [2:10:14<1:31:55, 172.36s/it]"
     ]
    },
    {
     "name": "stdout",
     "output_type": "stream",
     "text": [
      "[49/80] lr = 0.05, sigma = 0.1, T0 = 0.01\n",
      "[Ising Relaxed] Run 1/10\n",
      "[Ising Relaxed] Run 2/10\n",
      "[Ising Relaxed] Run 3/10\n",
      "[Ising Relaxed] Run 4/10\n",
      "[Ising Relaxed] Run 5/10\n",
      "[Ising Relaxed] Run 6/10\n",
      "[Ising Relaxed] Run 7/10\n",
      "[Ising Relaxed] Run 8/10\n",
      "[Ising Relaxed] Run 9/10\n",
      "[Ising Relaxed] Run 10/10\n"
     ]
    },
    {
     "name": "stderr",
     "output_type": "stream",
     "text": [
      " 61%|██████▏   | 49/80 [2:15:24<1:50:16, 213.44s/it]"
     ]
    },
    {
     "name": "stdout",
     "output_type": "stream",
     "text": [
      "[50/80] lr = 0.05, sigma = 0.1, T0 = 0.1\n",
      "[Ising Relaxed] Run 1/10\n",
      "[Ising Relaxed] Run 2/10\n",
      "[Ising Relaxed] Run 3/10\n",
      "[Ising Relaxed] Run 4/10\n",
      "[Ising Relaxed] Run 5/10\n",
      "[Ising Relaxed] Run 6/10\n",
      "[Ising Relaxed] Run 7/10\n",
      "[Ising Relaxed] Run 8/10\n",
      "[Ising Relaxed] Run 9/10\n",
      "[Ising Relaxed] Run 10/10\n"
     ]
    },
    {
     "name": "stderr",
     "output_type": "stream",
     "text": [
      " 62%|██████▎   | 50/80 [2:18:59<1:47:04, 214.14s/it]"
     ]
    },
    {
     "name": "stdout",
     "output_type": "stream",
     "text": [
      "[51/80] lr = 0.05, sigma = 0.1, T0 = 1.0\n",
      "[Ising Relaxed] Run 1/10\n",
      "[Ising Relaxed] Run 2/10\n",
      "[Ising Relaxed] Run 3/10\n",
      "[Ising Relaxed] Run 4/10\n",
      "[Ising Relaxed] Run 5/10\n",
      "[Ising Relaxed] Run 6/10\n",
      "[Ising Relaxed] Run 7/10\n",
      "[Ising Relaxed] Run 8/10\n",
      "[Ising Relaxed] Run 9/10\n",
      "[Ising Relaxed] Run 10/10\n"
     ]
    },
    {
     "name": "stderr",
     "output_type": "stream",
     "text": [
      " 64%|██████▍   | 51/80 [2:23:33<1:52:03, 231.84s/it]"
     ]
    },
    {
     "name": "stdout",
     "output_type": "stream",
     "text": [
      "[52/80] lr = 0.05, sigma = 0.1, T0 = 10.0\n",
      "[Ising Relaxed] Run 1/10\n",
      "[Ising Relaxed] Run 2/10\n",
      "[Ising Relaxed] Run 3/10\n",
      "[Ising Relaxed] Run 4/10\n",
      "[Ising Relaxed] Run 5/10\n",
      "[Ising Relaxed] Run 6/10\n",
      "[Ising Relaxed] Run 7/10\n",
      "[Ising Relaxed] Run 8/10\n",
      "[Ising Relaxed] Run 9/10\n",
      "[Ising Relaxed] Run 10/10\n"
     ]
    },
    {
     "name": "stderr",
     "output_type": "stream",
     "text": [
      " 65%|██████▌   | 52/80 [2:27:56<1:52:35, 241.29s/it]"
     ]
    },
    {
     "name": "stdout",
     "output_type": "stream",
     "text": [
      "[53/80] lr = 0.05, sigma = 0.5, T0 = 0.01\n",
      "[Ising Relaxed] Run 1/10\n",
      "[Ising Relaxed] Run 2/10\n",
      "[Ising Relaxed] Run 3/10\n",
      "[Ising Relaxed] Run 4/10\n",
      "[Ising Relaxed] Run 5/10\n",
      "[Ising Relaxed] Run 6/10\n",
      "[Ising Relaxed] Run 7/10\n",
      "[Ising Relaxed] Run 8/10\n",
      "[Ising Relaxed] Run 9/10\n",
      "[Ising Relaxed] Run 10/10\n"
     ]
    },
    {
     "name": "stderr",
     "output_type": "stream",
     "text": [
      " 66%|██████▋   | 53/80 [2:32:43<1:54:43, 254.94s/it]"
     ]
    },
    {
     "name": "stdout",
     "output_type": "stream",
     "text": [
      "[54/80] lr = 0.05, sigma = 0.5, T0 = 0.1\n",
      "[Ising Relaxed] Run 1/10\n",
      "[Ising Relaxed] Run 2/10\n",
      "[Ising Relaxed] Run 3/10\n",
      "[Ising Relaxed] Run 4/10\n",
      "[Ising Relaxed] Run 5/10\n",
      "[Ising Relaxed] Run 6/10\n",
      "[Ising Relaxed] Run 7/10\n",
      "[Ising Relaxed] Run 8/10\n",
      "[Ising Relaxed] Run 9/10\n",
      "[Ising Relaxed] Run 10/10\n"
     ]
    },
    {
     "name": "stderr",
     "output_type": "stream",
     "text": [
      " 68%|██████▊   | 54/80 [2:37:29<1:54:36, 264.49s/it]"
     ]
    },
    {
     "name": "stdout",
     "output_type": "stream",
     "text": [
      "[55/80] lr = 0.05, sigma = 0.5, T0 = 1.0\n",
      "[Ising Relaxed] Run 1/10\n",
      "[Ising Relaxed] Run 2/10\n",
      "[Ising Relaxed] Run 3/10\n",
      "[Ising Relaxed] Run 4/10\n",
      "[Ising Relaxed] Run 5/10\n",
      "[Ising Relaxed] Run 6/10\n",
      "[Ising Relaxed] Run 7/10\n",
      "[Ising Relaxed] Run 8/10\n",
      "[Ising Relaxed] Run 9/10\n",
      "[Ising Relaxed] Run 10/10\n"
     ]
    },
    {
     "name": "stderr",
     "output_type": "stream",
     "text": [
      " 69%|██████▉   | 55/80 [2:42:41<1:56:02, 278.49s/it]"
     ]
    },
    {
     "name": "stdout",
     "output_type": "stream",
     "text": [
      "[56/80] lr = 0.05, sigma = 0.5, T0 = 10.0\n",
      "[Ising Relaxed] Run 1/10\n",
      "[Ising Relaxed] Run 2/10\n",
      "[Ising Relaxed] Run 3/10\n",
      "[Ising Relaxed] Run 4/10\n",
      "[Ising Relaxed] Run 5/10\n",
      "[Ising Relaxed] Run 6/10\n",
      "[Ising Relaxed] Run 7/10\n",
      "[Ising Relaxed] Run 8/10\n",
      "[Ising Relaxed] Run 9/10\n",
      "[Ising Relaxed] Run 10/10\n"
     ]
    },
    {
     "name": "stderr",
     "output_type": "stream",
     "text": [
      " 70%|███████   | 56/80 [2:47:47<1:54:45, 286.88s/it]"
     ]
    },
    {
     "name": "stdout",
     "output_type": "stream",
     "text": [
      "[57/80] lr = 0.05, sigma = 1.0, T0 = 0.01\n",
      "[Ising Relaxed] Run 1/10\n",
      "[Ising Relaxed] Run 2/10\n",
      "[Ising Relaxed] Run 3/10\n",
      "[Ising Relaxed] Run 4/10\n",
      "[Ising Relaxed] Run 5/10\n",
      "[Ising Relaxed] Run 6/10\n",
      "[Ising Relaxed] Run 7/10\n",
      "[Ising Relaxed] Run 8/10\n",
      "[Ising Relaxed] Run 9/10\n",
      "[Ising Relaxed] Run 10/10\n"
     ]
    },
    {
     "name": "stderr",
     "output_type": "stream",
     "text": [
      " 71%|███████▏  | 57/80 [2:53:04<1:53:27, 295.97s/it]"
     ]
    },
    {
     "name": "stdout",
     "output_type": "stream",
     "text": [
      "[58/80] lr = 0.05, sigma = 1.0, T0 = 0.1\n",
      "[Ising Relaxed] Run 1/10\n",
      "[Ising Relaxed] Run 2/10\n",
      "[Ising Relaxed] Run 3/10\n",
      "[Ising Relaxed] Run 4/10\n",
      "[Ising Relaxed] Run 5/10\n",
      "[Ising Relaxed] Run 6/10\n",
      "[Ising Relaxed] Run 7/10\n",
      "[Ising Relaxed] Run 8/10\n",
      "[Ising Relaxed] Run 9/10\n",
      "[Ising Relaxed] Run 10/10\n"
     ]
    },
    {
     "name": "stderr",
     "output_type": "stream",
     "text": [
      " 72%|███████▎  | 58/80 [2:58:21<1:50:50, 302.31s/it]"
     ]
    },
    {
     "name": "stdout",
     "output_type": "stream",
     "text": [
      "[59/80] lr = 0.05, sigma = 1.0, T0 = 1.0\n",
      "[Ising Relaxed] Run 1/10\n",
      "[Ising Relaxed] Run 2/10\n",
      "[Ising Relaxed] Run 3/10\n",
      "[Ising Relaxed] Run 4/10\n",
      "[Ising Relaxed] Run 5/10\n",
      "[Ising Relaxed] Run 6/10\n",
      "[Ising Relaxed] Run 7/10\n",
      "[Ising Relaxed] Run 8/10\n",
      "[Ising Relaxed] Run 9/10\n",
      "[Ising Relaxed] Run 10/10\n"
     ]
    },
    {
     "name": "stderr",
     "output_type": "stream",
     "text": [
      " 74%|███████▍  | 59/80 [3:12:42<2:44:26, 469.84s/it]"
     ]
    },
    {
     "name": "stdout",
     "output_type": "stream",
     "text": [
      "[60/80] lr = 0.05, sigma = 1.0, T0 = 10.0\n",
      "[Ising Relaxed] Run 1/10\n",
      "[Ising Relaxed] Run 2/10\n",
      "[Ising Relaxed] Run 3/10\n",
      "[Ising Relaxed] Run 4/10\n",
      "[Ising Relaxed] Run 5/10\n",
      "[Ising Relaxed] Run 6/10\n",
      "[Ising Relaxed] Run 7/10\n",
      "[Ising Relaxed] Run 8/10\n",
      "[Ising Relaxed] Run 9/10\n",
      "[Ising Relaxed] Run 10/10\n"
     ]
    },
    {
     "name": "stderr",
     "output_type": "stream",
     "text": [
      " 75%|███████▌  | 60/80 [3:16:53<2:14:45, 404.28s/it]"
     ]
    },
    {
     "name": "stdout",
     "output_type": "stream",
     "text": [
      "[61/80] lr = 0.05, sigma = 2.0, T0 = 0.01\n",
      "[Ising Relaxed] Run 1/10\n",
      "[Ising Relaxed] Run 2/10\n",
      "[Ising Relaxed] Run 3/10\n",
      "[Ising Relaxed] Run 4/10\n",
      "[Ising Relaxed] Run 5/10\n",
      "[Ising Relaxed] Run 6/10\n",
      "[Ising Relaxed] Run 7/10\n",
      "[Ising Relaxed] Run 8/10\n",
      "[Ising Relaxed] Run 9/10\n",
      "[Ising Relaxed] Run 10/10\n"
     ]
    },
    {
     "name": "stderr",
     "output_type": "stream",
     "text": [
      " 76%|███████▋  | 61/80 [3:21:04<1:53:26, 358.26s/it]"
     ]
    },
    {
     "name": "stdout",
     "output_type": "stream",
     "text": [
      "[62/80] lr = 0.05, sigma = 2.0, T0 = 0.1\n",
      "[Ising Relaxed] Run 1/10\n",
      "[Ising Relaxed] Run 2/10\n",
      "[Ising Relaxed] Run 3/10\n",
      "[Ising Relaxed] Run 4/10\n",
      "[Ising Relaxed] Run 5/10\n",
      "[Ising Relaxed] Run 6/10\n",
      "[Ising Relaxed] Run 7/10\n",
      "[Ising Relaxed] Run 8/10\n",
      "[Ising Relaxed] Run 9/10\n",
      "[Ising Relaxed] Run 10/10\n"
     ]
    },
    {
     "name": "stderr",
     "output_type": "stream",
     "text": [
      " 78%|███████▊  | 62/80 [3:25:31<1:39:15, 330.84s/it]"
     ]
    },
    {
     "name": "stdout",
     "output_type": "stream",
     "text": [
      "[63/80] lr = 0.05, sigma = 2.0, T0 = 1.0\n",
      "[Ising Relaxed] Run 1/10\n",
      "[Ising Relaxed] Run 2/10\n",
      "[Ising Relaxed] Run 3/10\n",
      "[Ising Relaxed] Run 4/10\n",
      "[Ising Relaxed] Run 5/10\n",
      "[Ising Relaxed] Run 6/10\n",
      "[Ising Relaxed] Run 7/10\n",
      "[Ising Relaxed] Run 8/10\n",
      "[Ising Relaxed] Run 9/10\n",
      "[Ising Relaxed] Run 10/10\n"
     ]
    },
    {
     "name": "stderr",
     "output_type": "stream",
     "text": [
      " 79%|███████▉  | 63/80 [3:29:30<1:25:56, 303.34s/it]"
     ]
    },
    {
     "name": "stdout",
     "output_type": "stream",
     "text": [
      "[64/80] lr = 0.05, sigma = 2.0, T0 = 10.0\n",
      "[Ising Relaxed] Run 1/10\n",
      "[Ising Relaxed] Run 2/10\n",
      "[Ising Relaxed] Run 3/10\n",
      "[Ising Relaxed] Run 4/10\n",
      "[Ising Relaxed] Run 5/10\n",
      "[Ising Relaxed] Run 6/10\n",
      "[Ising Relaxed] Run 7/10\n",
      "[Ising Relaxed] Run 8/10\n",
      "[Ising Relaxed] Run 9/10\n",
      "[Ising Relaxed] Run 10/10\n"
     ]
    },
    {
     "name": "stderr",
     "output_type": "stream",
     "text": [
      " 80%|████████  | 64/80 [3:33:27<1:15:33, 283.36s/it]"
     ]
    },
    {
     "name": "stdout",
     "output_type": "stream",
     "text": [
      "[65/80] lr = 0.1, sigma = 0.1, T0 = 0.01\n",
      "[Ising Relaxed] Run 1/10\n",
      "[Ising Relaxed] Run 2/10\n",
      "[Ising Relaxed] Run 3/10\n",
      "[Ising Relaxed] Run 4/10\n",
      "[Ising Relaxed] Run 5/10\n",
      "[Ising Relaxed] Run 6/10\n",
      "[Ising Relaxed] Run 7/10\n",
      "[Ising Relaxed] Run 8/10\n",
      "[Ising Relaxed] Run 9/10\n",
      "[Ising Relaxed] Run 10/10\n"
     ]
    },
    {
     "name": "stderr",
     "output_type": "stream",
     "text": [
      " 81%|████████▏ | 65/80 [4:48:49<6:28:45, 1555.07s/it]"
     ]
    },
    {
     "name": "stdout",
     "output_type": "stream",
     "text": [
      "[66/80] lr = 0.1, sigma = 0.1, T0 = 0.1\n",
      "[Ising Relaxed] Run 1/10\n",
      "[Ising Relaxed] Run 2/10\n",
      "[Ising Relaxed] Run 3/10\n",
      "[Ising Relaxed] Run 4/10\n",
      "[Ising Relaxed] Run 5/10\n",
      "[Ising Relaxed] Run 6/10\n",
      "[Ising Relaxed] Run 7/10\n",
      "[Ising Relaxed] Run 8/10\n",
      "[Ising Relaxed] Run 9/10\n",
      "[Ising Relaxed] Run 10/10\n"
     ]
    },
    {
     "name": "stderr",
     "output_type": "stream",
     "text": [
      " 82%|████████▎ | 66/80 [4:54:21<4:37:13, 1188.14s/it]"
     ]
    },
    {
     "name": "stdout",
     "output_type": "stream",
     "text": [
      "[67/80] lr = 0.1, sigma = 0.1, T0 = 1.0\n",
      "[Ising Relaxed] Run 1/10\n",
      "[Ising Relaxed] Run 2/10\n",
      "[Ising Relaxed] Run 3/10\n",
      "[Ising Relaxed] Run 4/10\n",
      "[Ising Relaxed] Run 5/10\n",
      "[Ising Relaxed] Run 6/10\n",
      "[Ising Relaxed] Run 7/10\n",
      "[Ising Relaxed] Run 8/10\n",
      "[Ising Relaxed] Run 9/10\n",
      "[Ising Relaxed] Run 10/10\n"
     ]
    },
    {
     "name": "stderr",
     "output_type": "stream",
     "text": [
      " 84%|████████▍ | 67/80 [4:58:16<3:15:26, 902.06s/it] "
     ]
    },
    {
     "name": "stdout",
     "output_type": "stream",
     "text": [
      "[68/80] lr = 0.1, sigma = 0.1, T0 = 10.0\n",
      "[Ising Relaxed] Run 1/10\n",
      "[Ising Relaxed] Run 2/10\n",
      "[Ising Relaxed] Run 3/10\n",
      "[Ising Relaxed] Run 4/10\n",
      "[Ising Relaxed] Run 5/10\n",
      "[Ising Relaxed] Run 6/10\n",
      "[Ising Relaxed] Run 7/10\n",
      "[Ising Relaxed] Run 8/10\n",
      "[Ising Relaxed] Run 9/10\n",
      "[Ising Relaxed] Run 10/10\n"
     ]
    },
    {
     "name": "stderr",
     "output_type": "stream",
     "text": [
      " 85%|████████▌ | 68/80 [5:01:59<2:19:39, 698.27s/it]"
     ]
    },
    {
     "name": "stdout",
     "output_type": "stream",
     "text": [
      "[69/80] lr = 0.1, sigma = 0.5, T0 = 0.01\n",
      "[Ising Relaxed] Run 1/10\n",
      "[Ising Relaxed] Run 2/10\n",
      "[Ising Relaxed] Run 3/10\n",
      "[Ising Relaxed] Run 4/10\n",
      "[Ising Relaxed] Run 5/10\n",
      "[Ising Relaxed] Run 6/10\n",
      "[Ising Relaxed] Run 7/10\n",
      "[Ising Relaxed] Run 8/10\n",
      "[Ising Relaxed] Run 9/10\n",
      "[Ising Relaxed] Run 10/10\n"
     ]
    },
    {
     "name": "stderr",
     "output_type": "stream",
     "text": [
      " 86%|████████▋ | 69/80 [5:06:18<1:43:53, 566.70s/it]"
     ]
    },
    {
     "name": "stdout",
     "output_type": "stream",
     "text": [
      "[70/80] lr = 0.1, sigma = 0.5, T0 = 0.1\n",
      "[Ising Relaxed] Run 1/10\n",
      "[Ising Relaxed] Run 2/10\n",
      "[Ising Relaxed] Run 3/10\n",
      "[Ising Relaxed] Run 4/10\n",
      "[Ising Relaxed] Run 5/10\n",
      "[Ising Relaxed] Run 6/10\n",
      "[Ising Relaxed] Run 7/10\n",
      "[Ising Relaxed] Run 8/10\n",
      "[Ising Relaxed] Run 9/10\n",
      "[Ising Relaxed] Run 10/10\n"
     ]
    },
    {
     "name": "stderr",
     "output_type": "stream",
     "text": [
      " 88%|████████▊ | 70/80 [5:10:11<1:17:45, 466.52s/it]"
     ]
    },
    {
     "name": "stdout",
     "output_type": "stream",
     "text": [
      "[71/80] lr = 0.1, sigma = 0.5, T0 = 1.0\n",
      "[Ising Relaxed] Run 1/10\n",
      "[Ising Relaxed] Run 2/10\n",
      "[Ising Relaxed] Run 3/10\n",
      "[Ising Relaxed] Run 4/10\n",
      "[Ising Relaxed] Run 5/10\n",
      "[Ising Relaxed] Run 6/10\n",
      "[Ising Relaxed] Run 7/10\n",
      "[Ising Relaxed] Run 8/10\n",
      "[Ising Relaxed] Run 9/10\n",
      "[Ising Relaxed] Run 10/10\n"
     ]
    },
    {
     "name": "stderr",
     "output_type": "stream",
     "text": [
      " 89%|████████▉ | 71/80 [5:14:39<1:01:01, 406.88s/it]"
     ]
    },
    {
     "name": "stdout",
     "output_type": "stream",
     "text": [
      "[72/80] lr = 0.1, sigma = 0.5, T0 = 10.0\n",
      "[Ising Relaxed] Run 1/10\n",
      "[Ising Relaxed] Run 2/10\n",
      "[Ising Relaxed] Run 3/10\n",
      "[Ising Relaxed] Run 4/10\n",
      "[Ising Relaxed] Run 5/10\n",
      "[Ising Relaxed] Run 6/10\n",
      "[Ising Relaxed] Run 7/10\n",
      "[Ising Relaxed] Run 8/10\n",
      "[Ising Relaxed] Run 9/10\n",
      "[Ising Relaxed] Run 10/10\n"
     ]
    },
    {
     "name": "stderr",
     "output_type": "stream",
     "text": [
      " 90%|█████████ | 72/80 [5:18:33<47:19, 354.97s/it]  "
     ]
    },
    {
     "name": "stdout",
     "output_type": "stream",
     "text": [
      "[73/80] lr = 0.1, sigma = 1.0, T0 = 0.01\n",
      "[Ising Relaxed] Run 1/10\n",
      "[Ising Relaxed] Run 2/10\n",
      "[Ising Relaxed] Run 3/10\n",
      "[Ising Relaxed] Run 4/10\n",
      "[Ising Relaxed] Run 5/10\n",
      "[Ising Relaxed] Run 6/10\n",
      "[Ising Relaxed] Run 7/10\n",
      "[Ising Relaxed] Run 8/10\n",
      "[Ising Relaxed] Run 9/10\n",
      "[Ising Relaxed] Run 10/10\n"
     ]
    },
    {
     "name": "stderr",
     "output_type": "stream",
     "text": [
      " 91%|█████████▏| 73/80 [5:22:39<37:36, 322.32s/it]"
     ]
    },
    {
     "name": "stdout",
     "output_type": "stream",
     "text": [
      "[74/80] lr = 0.1, sigma = 1.0, T0 = 0.1\n",
      "[Ising Relaxed] Run 1/10\n",
      "[Ising Relaxed] Run 2/10\n",
      "[Ising Relaxed] Run 3/10\n",
      "[Ising Relaxed] Run 4/10\n",
      "[Ising Relaxed] Run 5/10\n",
      "[Ising Relaxed] Run 6/10\n",
      "[Ising Relaxed] Run 7/10\n",
      "[Ising Relaxed] Run 8/10\n",
      "[Ising Relaxed] Run 9/10\n",
      "[Ising Relaxed] Run 10/10\n"
     ]
    },
    {
     "name": "stderr",
     "output_type": "stream",
     "text": [
      " 92%|█████████▎| 74/80 [5:27:28<31:13, 312.24s/it]"
     ]
    },
    {
     "name": "stdout",
     "output_type": "stream",
     "text": [
      "[75/80] lr = 0.1, sigma = 1.0, T0 = 1.0\n",
      "[Ising Relaxed] Run 1/10\n",
      "[Ising Relaxed] Run 2/10\n",
      "[Ising Relaxed] Run 3/10\n",
      "[Ising Relaxed] Run 4/10\n",
      "[Ising Relaxed] Run 5/10\n",
      "[Ising Relaxed] Run 6/10\n",
      "[Ising Relaxed] Run 7/10\n",
      "[Ising Relaxed] Run 8/10\n",
      "[Ising Relaxed] Run 9/10\n",
      "[Ising Relaxed] Run 10/10\n"
     ]
    },
    {
     "name": "stderr",
     "output_type": "stream",
     "text": [
      " 94%|█████████▍| 75/80 [5:30:41<23:02, 276.50s/it]"
     ]
    },
    {
     "name": "stdout",
     "output_type": "stream",
     "text": [
      "[76/80] lr = 0.1, sigma = 1.0, T0 = 10.0\n",
      "[Ising Relaxed] Run 1/10\n",
      "[Ising Relaxed] Run 2/10\n",
      "[Ising Relaxed] Run 3/10\n",
      "[Ising Relaxed] Run 4/10\n",
      "[Ising Relaxed] Run 5/10\n",
      "[Ising Relaxed] Run 6/10\n",
      "[Ising Relaxed] Run 7/10\n",
      "[Ising Relaxed] Run 8/10\n",
      "[Ising Relaxed] Run 9/10\n",
      "[Ising Relaxed] Run 10/10\n"
     ]
    },
    {
     "name": "stderr",
     "output_type": "stream",
     "text": [
      " 95%|█████████▌| 76/80 [5:33:55<16:47, 251.76s/it]"
     ]
    },
    {
     "name": "stdout",
     "output_type": "stream",
     "text": [
      "[77/80] lr = 0.1, sigma = 2.0, T0 = 0.01\n",
      "[Ising Relaxed] Run 1/10\n",
      "[Ising Relaxed] Run 2/10\n",
      "[Ising Relaxed] Run 3/10\n",
      "[Ising Relaxed] Run 4/10\n",
      "[Ising Relaxed] Run 5/10\n",
      "[Ising Relaxed] Run 6/10\n",
      "[Ising Relaxed] Run 7/10\n",
      "[Ising Relaxed] Run 8/10\n",
      "[Ising Relaxed] Run 9/10\n",
      "[Ising Relaxed] Run 10/10\n"
     ]
    },
    {
     "name": "stderr",
     "output_type": "stream",
     "text": [
      " 96%|█████████▋| 77/80 [5:37:35<12:07, 242.35s/it]"
     ]
    },
    {
     "name": "stdout",
     "output_type": "stream",
     "text": [
      "[78/80] lr = 0.1, sigma = 2.0, T0 = 0.1\n",
      "[Ising Relaxed] Run 1/10\n",
      "[Ising Relaxed] Run 2/10\n",
      "[Ising Relaxed] Run 3/10\n",
      "[Ising Relaxed] Run 4/10\n",
      "[Ising Relaxed] Run 5/10\n",
      "[Ising Relaxed] Run 6/10\n",
      "[Ising Relaxed] Run 7/10\n",
      "[Ising Relaxed] Run 8/10\n",
      "[Ising Relaxed] Run 9/10\n",
      "[Ising Relaxed] Run 10/10\n"
     ]
    },
    {
     "name": "stderr",
     "output_type": "stream",
     "text": [
      " 98%|█████████▊| 78/80 [5:41:59<08:17, 248.84s/it]"
     ]
    },
    {
     "name": "stdout",
     "output_type": "stream",
     "text": [
      "[79/80] lr = 0.1, sigma = 2.0, T0 = 1.0\n",
      "[Ising Relaxed] Run 1/10\n",
      "[Ising Relaxed] Run 2/10\n",
      "[Ising Relaxed] Run 3/10\n",
      "[Ising Relaxed] Run 4/10\n",
      "[Ising Relaxed] Run 5/10\n",
      "[Ising Relaxed] Run 6/10\n",
      "[Ising Relaxed] Run 7/10\n",
      "[Ising Relaxed] Run 8/10\n",
      "[Ising Relaxed] Run 9/10\n",
      "[Ising Relaxed] Run 10/10\n"
     ]
    },
    {
     "name": "stderr",
     "output_type": "stream",
     "text": [
      " 99%|█████████▉| 79/80 [5:45:42<04:00, 240.92s/it]"
     ]
    },
    {
     "name": "stdout",
     "output_type": "stream",
     "text": [
      "[80/80] lr = 0.1, sigma = 2.0, T0 = 10.0\n",
      "[Ising Relaxed] Run 1/10\n",
      "[Ising Relaxed] Run 2/10\n",
      "[Ising Relaxed] Run 3/10\n",
      "[Ising Relaxed] Run 4/10\n",
      "[Ising Relaxed] Run 5/10\n",
      "[Ising Relaxed] Run 6/10\n",
      "[Ising Relaxed] Run 7/10\n",
      "[Ising Relaxed] Run 8/10\n",
      "[Ising Relaxed] Run 9/10\n",
      "[Ising Relaxed] Run 10/10\n"
     ]
    },
    {
     "name": "stderr",
     "output_type": "stream",
     "text": [
      "100%|██████████| 80/80 [5:49:44<00:00, 262.30s/it]\n"
     ]
    }
   ],
   "source": [
    "# Run and save\n",
    "df_hybrid_ising = grid_search_hybrid_ising_relaxed(hybrid_grid, num_runs=10)\n",
    "df_hybrid_ising.to_csv(os.path.join(results_dir, \"gridsearch_hybrid-unif_ising_relaxed_new.csv\"), index=False)"
   ]
  },
  {
   "cell_type": "code",
   "execution_count": null,
   "id": "21c693ea",
   "metadata": {},
   "outputs": [],
   "source": []
  }
 ],
 "metadata": {
  "kernelspec": {
   "display_name": "venv_thesis",
   "language": "python",
   "name": "python3"
  },
  "language_info": {
   "codemirror_mode": {
    "name": "ipython",
    "version": 3
   },
   "file_extension": ".py",
   "mimetype": "text/x-python",
   "name": "python",
   "nbconvert_exporter": "python",
   "pygments_lexer": "ipython3",
   "version": "3.12.0"
  }
 },
 "nbformat": 4,
 "nbformat_minor": 5
}
