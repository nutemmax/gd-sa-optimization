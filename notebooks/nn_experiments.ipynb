{
 "cells": [
  {
   "cell_type": "markdown",
   "id": "53b20f64",
   "metadata": {},
   "source": [
    "# Imports"
   ]
  },
  {
   "cell_type": "code",
   "execution_count": null,
   "id": "2a4fcd43",
   "metadata": {},
   "outputs": [],
   "source": [
    "import numpy as np\n",
    "import pandas as pd\n",
    "import matplotlib.pyplot as plt\n",
    "import torch\n",
    "import torch.nn as nn\n",
    "import torch.optim as optim\n",
    "from sklearn.model_selection import train_test_split\n",
    "from sklearn.preprocessing import StandardScaler, OneHotEncoder\n",
    "from sklearn.metrics import accuracy_score, confusion_matrix, classification_report, log_loss\n",
    "from sklearn.model_selection import StratifiedKFold\n",
    "from sklearn.metrics import ConfusionMatrixDisplay\n",
    "\n",
    "import pandas as pd\n",
    "import seaborn as sns\n",
    "\n",
    "# project root (one level above 'notebooks/') to the path - go to the parent of 'src/'\n",
    "import sys\n",
    "import os\n",
    "\n",
    "project_root = os.path.abspath(os.path.join(os.getcwd(), \"..\"))\n",
    "if project_root not in sys.path:\n",
    "    sys.path.insert(0, project_root)\n",
    "\n",
    "from src.optimizers.sa_nn import sa_nn\n",
    "from src.optimizers.gd_nn import gd_nn\n",
    "from src.problems.nn import init_weights, flatten_weights, unflatten_weights"
   ]
  },
  {
   "cell_type": "code",
   "execution_count": 137,
   "id": "9f460d69",
   "metadata": {},
   "outputs": [],
   "source": [
    "from sklearn.datasets import load_wine\n",
    "from sklearn.preprocessing import StandardScaler, OneHotEncoder\n",
    "from sklearn.model_selection import train_test_split\n",
    "from ucimlrepo import fetch_ucirepo "
   ]
  },
  {
   "cell_type": "code",
   "execution_count": null,
   "id": "b95fb32b",
   "metadata": {},
   "outputs": [],
   "source": [
    "# random seed set\n",
    "np.random.seed(0)"
   ]
  },
  {
   "cell_type": "code",
   "execution_count": null,
   "id": "c69c8d8c",
   "metadata": {},
   "outputs": [],
   "source": [
    "wine_data = load_wine()\n",
    "df = pd.DataFrame(data=wine_data.data, columns=wine_data.feature_names)\n",
    "df['target'] = wine_data.target\n",
    "df = df[['target'] + [col for col in df.columns if col != 'target']]"
   ]
  },
  {
   "cell_type": "code",
   "execution_count": 171,
   "id": "7761c4b2",
   "metadata": {},
   "outputs": [],
   "source": [
    "# fetch dataset\n",
    "wine_quality = fetch_ucirepo(id=186)\n",
    "\n",
    "# extract features and target\n",
    "X = wine_quality.data.features\n",
    "y = wine_quality.data.targets\n",
    "\n",
    "# concatenate target and features into one dataframe, with target as first column\n",
    "df = pd.concat([y, X], axis=1)\n",
    "df.columns = ['target'] + list(X.columns)"
   ]
  },
  {
   "cell_type": "code",
   "execution_count": 172,
   "id": "73815d30",
   "metadata": {},
   "outputs": [],
   "source": [
    "# group target into 3 classes: 0 (low), 1 (medium), 2 (high)\n",
    "df[\"target_grouped\"] = df[\"target\"].map(lambda x: 0 if x <= 5 else 1)\n",
    "\n",
    "# move target_grouped to first column\n",
    "cols = [\"target_grouped\"] + [col for col in df.columns if col not in [\"target_grouped\", \"target\"]]\n",
    "df = df[cols]"
   ]
  },
  {
   "cell_type": "code",
   "execution_count": 173,
   "id": "4aa57dca",
   "metadata": {},
   "outputs": [
    {
     "data": {
      "text/html": [
       "<div>\n",
       "<style scoped>\n",
       "    .dataframe tbody tr th:only-of-type {\n",
       "        vertical-align: middle;\n",
       "    }\n",
       "\n",
       "    .dataframe tbody tr th {\n",
       "        vertical-align: top;\n",
       "    }\n",
       "\n",
       "    .dataframe thead th {\n",
       "        text-align: right;\n",
       "    }\n",
       "</style>\n",
       "<table border=\"1\" class=\"dataframe\">\n",
       "  <thead>\n",
       "    <tr style=\"text-align: right;\">\n",
       "      <th></th>\n",
       "      <th>target_grouped</th>\n",
       "      <th>fixed_acidity</th>\n",
       "      <th>volatile_acidity</th>\n",
       "      <th>citric_acid</th>\n",
       "      <th>residual_sugar</th>\n",
       "      <th>chlorides</th>\n",
       "      <th>free_sulfur_dioxide</th>\n",
       "      <th>total_sulfur_dioxide</th>\n",
       "      <th>density</th>\n",
       "      <th>pH</th>\n",
       "      <th>sulphates</th>\n",
       "      <th>alcohol</th>\n",
       "    </tr>\n",
       "  </thead>\n",
       "  <tbody>\n",
       "    <tr>\n",
       "      <th>0</th>\n",
       "      <td>0</td>\n",
       "      <td>7.4</td>\n",
       "      <td>0.70</td>\n",
       "      <td>0.00</td>\n",
       "      <td>1.9</td>\n",
       "      <td>0.076</td>\n",
       "      <td>11.0</td>\n",
       "      <td>34.0</td>\n",
       "      <td>0.9978</td>\n",
       "      <td>3.51</td>\n",
       "      <td>0.56</td>\n",
       "      <td>9.4</td>\n",
       "    </tr>\n",
       "    <tr>\n",
       "      <th>1</th>\n",
       "      <td>0</td>\n",
       "      <td>7.8</td>\n",
       "      <td>0.88</td>\n",
       "      <td>0.00</td>\n",
       "      <td>2.6</td>\n",
       "      <td>0.098</td>\n",
       "      <td>25.0</td>\n",
       "      <td>67.0</td>\n",
       "      <td>0.9968</td>\n",
       "      <td>3.20</td>\n",
       "      <td>0.68</td>\n",
       "      <td>9.8</td>\n",
       "    </tr>\n",
       "    <tr>\n",
       "      <th>2</th>\n",
       "      <td>0</td>\n",
       "      <td>7.8</td>\n",
       "      <td>0.76</td>\n",
       "      <td>0.04</td>\n",
       "      <td>2.3</td>\n",
       "      <td>0.092</td>\n",
       "      <td>15.0</td>\n",
       "      <td>54.0</td>\n",
       "      <td>0.9970</td>\n",
       "      <td>3.26</td>\n",
       "      <td>0.65</td>\n",
       "      <td>9.8</td>\n",
       "    </tr>\n",
       "    <tr>\n",
       "      <th>3</th>\n",
       "      <td>1</td>\n",
       "      <td>11.2</td>\n",
       "      <td>0.28</td>\n",
       "      <td>0.56</td>\n",
       "      <td>1.9</td>\n",
       "      <td>0.075</td>\n",
       "      <td>17.0</td>\n",
       "      <td>60.0</td>\n",
       "      <td>0.9980</td>\n",
       "      <td>3.16</td>\n",
       "      <td>0.58</td>\n",
       "      <td>9.8</td>\n",
       "    </tr>\n",
       "    <tr>\n",
       "      <th>4</th>\n",
       "      <td>0</td>\n",
       "      <td>7.4</td>\n",
       "      <td>0.70</td>\n",
       "      <td>0.00</td>\n",
       "      <td>1.9</td>\n",
       "      <td>0.076</td>\n",
       "      <td>11.0</td>\n",
       "      <td>34.0</td>\n",
       "      <td>0.9978</td>\n",
       "      <td>3.51</td>\n",
       "      <td>0.56</td>\n",
       "      <td>9.4</td>\n",
       "    </tr>\n",
       "  </tbody>\n",
       "</table>\n",
       "</div>"
      ],
      "text/plain": [
       "   target_grouped  fixed_acidity  volatile_acidity  citric_acid  \\\n",
       "0               0            7.4              0.70         0.00   \n",
       "1               0            7.8              0.88         0.00   \n",
       "2               0            7.8              0.76         0.04   \n",
       "3               1           11.2              0.28         0.56   \n",
       "4               0            7.4              0.70         0.00   \n",
       "\n",
       "   residual_sugar  chlorides  free_sulfur_dioxide  total_sulfur_dioxide  \\\n",
       "0             1.9      0.076                 11.0                  34.0   \n",
       "1             2.6      0.098                 25.0                  67.0   \n",
       "2             2.3      0.092                 15.0                  54.0   \n",
       "3             1.9      0.075                 17.0                  60.0   \n",
       "4             1.9      0.076                 11.0                  34.0   \n",
       "\n",
       "   density    pH  sulphates  alcohol  \n",
       "0   0.9978  3.51       0.56      9.4  \n",
       "1   0.9968  3.20       0.68      9.8  \n",
       "2   0.9970  3.26       0.65      9.8  \n",
       "3   0.9980  3.16       0.58      9.8  \n",
       "4   0.9978  3.51       0.56      9.4  "
      ]
     },
     "execution_count": 173,
     "metadata": {},
     "output_type": "execute_result"
    }
   ],
   "source": [
    "df.head()"
   ]
  },
  {
   "cell_type": "markdown",
   "id": "20359bd4",
   "metadata": {},
   "source": [
    "# Basic EDA"
   ]
  },
  {
   "cell_type": "code",
   "execution_count": 174,
   "id": "9ddcd5ad",
   "metadata": {},
   "outputs": [
    {
     "data": {
      "text/html": [
       "<div>\n",
       "<style scoped>\n",
       "    .dataframe tbody tr th:only-of-type {\n",
       "        vertical-align: middle;\n",
       "    }\n",
       "\n",
       "    .dataframe tbody tr th {\n",
       "        vertical-align: top;\n",
       "    }\n",
       "\n",
       "    .dataframe thead th {\n",
       "        text-align: right;\n",
       "    }\n",
       "</style>\n",
       "<table border=\"1\" class=\"dataframe\">\n",
       "  <thead>\n",
       "    <tr style=\"text-align: right;\">\n",
       "      <th></th>\n",
       "      <th>target_grouped</th>\n",
       "      <th>fixed_acidity</th>\n",
       "      <th>volatile_acidity</th>\n",
       "      <th>citric_acid</th>\n",
       "      <th>residual_sugar</th>\n",
       "      <th>chlorides</th>\n",
       "      <th>free_sulfur_dioxide</th>\n",
       "      <th>total_sulfur_dioxide</th>\n",
       "      <th>density</th>\n",
       "      <th>pH</th>\n",
       "      <th>sulphates</th>\n",
       "      <th>alcohol</th>\n",
       "    </tr>\n",
       "  </thead>\n",
       "  <tbody>\n",
       "    <tr>\n",
       "      <th>count</th>\n",
       "      <td>6497.000000</td>\n",
       "      <td>6497.000000</td>\n",
       "      <td>6497.000000</td>\n",
       "      <td>6497.000000</td>\n",
       "      <td>6497.000000</td>\n",
       "      <td>6497.000000</td>\n",
       "      <td>6497.000000</td>\n",
       "      <td>6497.000000</td>\n",
       "      <td>6497.000000</td>\n",
       "      <td>6497.000000</td>\n",
       "      <td>6497.000000</td>\n",
       "      <td>6497.000000</td>\n",
       "    </tr>\n",
       "    <tr>\n",
       "      <th>mean</th>\n",
       "      <td>0.633061</td>\n",
       "      <td>7.215307</td>\n",
       "      <td>0.339666</td>\n",
       "      <td>0.318633</td>\n",
       "      <td>5.443235</td>\n",
       "      <td>0.056034</td>\n",
       "      <td>30.525319</td>\n",
       "      <td>115.744574</td>\n",
       "      <td>0.994697</td>\n",
       "      <td>3.218501</td>\n",
       "      <td>0.531268</td>\n",
       "      <td>10.491801</td>\n",
       "    </tr>\n",
       "    <tr>\n",
       "      <th>std</th>\n",
       "      <td>0.482007</td>\n",
       "      <td>1.296434</td>\n",
       "      <td>0.164636</td>\n",
       "      <td>0.145318</td>\n",
       "      <td>4.757804</td>\n",
       "      <td>0.035034</td>\n",
       "      <td>17.749400</td>\n",
       "      <td>56.521855</td>\n",
       "      <td>0.002999</td>\n",
       "      <td>0.160787</td>\n",
       "      <td>0.148806</td>\n",
       "      <td>1.192712</td>\n",
       "    </tr>\n",
       "    <tr>\n",
       "      <th>min</th>\n",
       "      <td>0.000000</td>\n",
       "      <td>3.800000</td>\n",
       "      <td>0.080000</td>\n",
       "      <td>0.000000</td>\n",
       "      <td>0.600000</td>\n",
       "      <td>0.009000</td>\n",
       "      <td>1.000000</td>\n",
       "      <td>6.000000</td>\n",
       "      <td>0.987110</td>\n",
       "      <td>2.720000</td>\n",
       "      <td>0.220000</td>\n",
       "      <td>8.000000</td>\n",
       "    </tr>\n",
       "    <tr>\n",
       "      <th>25%</th>\n",
       "      <td>0.000000</td>\n",
       "      <td>6.400000</td>\n",
       "      <td>0.230000</td>\n",
       "      <td>0.250000</td>\n",
       "      <td>1.800000</td>\n",
       "      <td>0.038000</td>\n",
       "      <td>17.000000</td>\n",
       "      <td>77.000000</td>\n",
       "      <td>0.992340</td>\n",
       "      <td>3.110000</td>\n",
       "      <td>0.430000</td>\n",
       "      <td>9.500000</td>\n",
       "    </tr>\n",
       "    <tr>\n",
       "      <th>50%</th>\n",
       "      <td>1.000000</td>\n",
       "      <td>7.000000</td>\n",
       "      <td>0.290000</td>\n",
       "      <td>0.310000</td>\n",
       "      <td>3.000000</td>\n",
       "      <td>0.047000</td>\n",
       "      <td>29.000000</td>\n",
       "      <td>118.000000</td>\n",
       "      <td>0.994890</td>\n",
       "      <td>3.210000</td>\n",
       "      <td>0.510000</td>\n",
       "      <td>10.300000</td>\n",
       "    </tr>\n",
       "    <tr>\n",
       "      <th>75%</th>\n",
       "      <td>1.000000</td>\n",
       "      <td>7.700000</td>\n",
       "      <td>0.400000</td>\n",
       "      <td>0.390000</td>\n",
       "      <td>8.100000</td>\n",
       "      <td>0.065000</td>\n",
       "      <td>41.000000</td>\n",
       "      <td>156.000000</td>\n",
       "      <td>0.996990</td>\n",
       "      <td>3.320000</td>\n",
       "      <td>0.600000</td>\n",
       "      <td>11.300000</td>\n",
       "    </tr>\n",
       "    <tr>\n",
       "      <th>max</th>\n",
       "      <td>1.000000</td>\n",
       "      <td>15.900000</td>\n",
       "      <td>1.580000</td>\n",
       "      <td>1.660000</td>\n",
       "      <td>65.800000</td>\n",
       "      <td>0.611000</td>\n",
       "      <td>289.000000</td>\n",
       "      <td>440.000000</td>\n",
       "      <td>1.038980</td>\n",
       "      <td>4.010000</td>\n",
       "      <td>2.000000</td>\n",
       "      <td>14.900000</td>\n",
       "    </tr>\n",
       "  </tbody>\n",
       "</table>\n",
       "</div>"
      ],
      "text/plain": [
       "       target_grouped  fixed_acidity  volatile_acidity  citric_acid  \\\n",
       "count     6497.000000    6497.000000       6497.000000  6497.000000   \n",
       "mean         0.633061       7.215307          0.339666     0.318633   \n",
       "std          0.482007       1.296434          0.164636     0.145318   \n",
       "min          0.000000       3.800000          0.080000     0.000000   \n",
       "25%          0.000000       6.400000          0.230000     0.250000   \n",
       "50%          1.000000       7.000000          0.290000     0.310000   \n",
       "75%          1.000000       7.700000          0.400000     0.390000   \n",
       "max          1.000000      15.900000          1.580000     1.660000   \n",
       "\n",
       "       residual_sugar    chlorides  free_sulfur_dioxide  total_sulfur_dioxide  \\\n",
       "count     6497.000000  6497.000000          6497.000000           6497.000000   \n",
       "mean         5.443235     0.056034            30.525319            115.744574   \n",
       "std          4.757804     0.035034            17.749400             56.521855   \n",
       "min          0.600000     0.009000             1.000000              6.000000   \n",
       "25%          1.800000     0.038000            17.000000             77.000000   \n",
       "50%          3.000000     0.047000            29.000000            118.000000   \n",
       "75%          8.100000     0.065000            41.000000            156.000000   \n",
       "max         65.800000     0.611000           289.000000            440.000000   \n",
       "\n",
       "           density           pH    sulphates      alcohol  \n",
       "count  6497.000000  6497.000000  6497.000000  6497.000000  \n",
       "mean      0.994697     3.218501     0.531268    10.491801  \n",
       "std       0.002999     0.160787     0.148806     1.192712  \n",
       "min       0.987110     2.720000     0.220000     8.000000  \n",
       "25%       0.992340     3.110000     0.430000     9.500000  \n",
       "50%       0.994890     3.210000     0.510000    10.300000  \n",
       "75%       0.996990     3.320000     0.600000    11.300000  \n",
       "max       1.038980     4.010000     2.000000    14.900000  "
      ]
     },
     "execution_count": 174,
     "metadata": {},
     "output_type": "execute_result"
    }
   ],
   "source": [
    "df.describe()"
   ]
  },
  {
   "cell_type": "code",
   "execution_count": 175,
   "id": "a9997dc4",
   "metadata": {},
   "outputs": [
    {
     "name": "stdout",
     "output_type": "stream",
     "text": [
      "<class 'pandas.core.frame.DataFrame'>\n",
      "RangeIndex: 6497 entries, 0 to 6496\n",
      "Data columns (total 12 columns):\n",
      " #   Column                Non-Null Count  Dtype  \n",
      "---  ------                --------------  -----  \n",
      " 0   target_grouped        6497 non-null   int64  \n",
      " 1   fixed_acidity         6497 non-null   float64\n",
      " 2   volatile_acidity      6497 non-null   float64\n",
      " 3   citric_acid           6497 non-null   float64\n",
      " 4   residual_sugar        6497 non-null   float64\n",
      " 5   chlorides             6497 non-null   float64\n",
      " 6   free_sulfur_dioxide   6497 non-null   float64\n",
      " 7   total_sulfur_dioxide  6497 non-null   float64\n",
      " 8   density               6497 non-null   float64\n",
      " 9   pH                    6497 non-null   float64\n",
      " 10  sulphates             6497 non-null   float64\n",
      " 11  alcohol               6497 non-null   float64\n",
      "dtypes: float64(11), int64(1)\n",
      "memory usage: 609.2 KB\n"
     ]
    }
   ],
   "source": [
    "df.info()"
   ]
  },
  {
   "cell_type": "code",
   "execution_count": 176,
   "id": "3bf077aa",
   "metadata": {},
   "outputs": [
    {
     "data": {
      "text/plain": [
       "target_grouped\n",
       "1    4113\n",
       "0    2384\n",
       "Name: count, dtype: int64"
      ]
     },
     "execution_count": 176,
     "metadata": {},
     "output_type": "execute_result"
    }
   ],
   "source": [
    "df['target_grouped'].value_counts()\n"
   ]
  },
  {
   "cell_type": "code",
   "execution_count": 164,
   "id": "c264efc0",
   "metadata": {},
   "outputs": [
    {
     "data": {
      "text/plain": [
       "target_grouped          0\n",
       "fixed_acidity           0\n",
       "volatile_acidity        0\n",
       "citric_acid             0\n",
       "residual_sugar          0\n",
       "chlorides               0\n",
       "free_sulfur_dioxide     0\n",
       "total_sulfur_dioxide    0\n",
       "density                 0\n",
       "pH                      0\n",
       "sulphates               0\n",
       "alcohol                 0\n",
       "dtype: int64"
      ]
     },
     "execution_count": 164,
     "metadata": {},
     "output_type": "execute_result"
    }
   ],
   "source": [
    "df.isnull().sum()"
   ]
  },
  {
   "cell_type": "code",
   "execution_count": 165,
   "id": "d838b236",
   "metadata": {},
   "outputs": [
    {
     "data": {
      "image/png": "[encoded data removed]",
      "text/plain": [
       "<Figure size 1000x800 with 2 Axes>"
      ]
     },
     "metadata": {},
     "output_type": "display_data"
    }
   ],
   "source": [
    "# feature correlations\n",
    "plt.figure(figsize=(10, 8))\n",
    "sns.heatmap(df.corr(), cmap='coolwarm', annot=False)\n",
    "plt.title(\"Feature Correlation Matrix\")\n",
    "plt.show()"
   ]
  },
  {
   "cell_type": "code",
   "execution_count": 177,
   "id": "435ba983",
   "metadata": {},
   "outputs": [
    {
     "data": {
      "image/png": "[encoded data removed]",
      "text/plain": [
       "<Figure size 640x480 with 1 Axes>"
      ]
     },
     "metadata": {},
     "output_type": "display_data"
    }
   ],
   "source": [
    "df['target_grouped'].value_counts().sort_index().plot(kind='bar')\n",
    "plt.title(\"Wine Quality Class Distribution\")\n",
    "plt.xlabel(\"Quality Score\")\n",
    "plt.ylabel(\"Count\")\n",
    "plt.grid(True)\n",
    "plt.show()"
   ]
  },
  {
   "cell_type": "markdown",
   "id": "e175e81d",
   "metadata": {},
   "source": [
    "# Preprocessing"
   ]
  },
  {
   "cell_type": "code",
   "execution_count": 178,
   "id": "9ff954b2",
   "metadata": {},
   "outputs": [
    {
     "name": "stdout",
     "output_type": "stream",
     "text": [
      "Shape: (6497, 11)\n",
      "Classes: [2384 4113]\n"
     ]
    }
   ],
   "source": [
    "X = df.drop(columns=[\"target_grouped\"]).values\n",
    "y = df[\"target_grouped\"].values\n",
    "\n",
    "# normalize\n",
    "scaler = StandardScaler()\n",
    "X_scaled = scaler.fit_transform(X)\n",
    "\n",
    "print(\"Shape:\", X.shape)\n",
    "print(\"Classes:\", np.bincount(y))"
   ]
  },
  {
   "cell_type": "code",
   "execution_count": 179,
   "id": "edf4ab17",
   "metadata": {},
   "outputs": [],
   "source": [
    "# First split: train+val and test\n",
    "X_temp, X_test, y_temp, y_test = train_test_split(\n",
    "    X_scaled, y, test_size=0.2, random_state=42, stratify=y\n",
    ")"
   ]
  },
  {
   "cell_type": "markdown",
   "id": "c25ffc6a",
   "metadata": {},
   "source": [
    "# NN Architecture"
   ]
  },
  {
   "cell_type": "code",
   "execution_count": 180,
   "id": "c0fdb604",
   "metadata": {},
   "outputs": [],
   "source": [
    "class SimpleNN(nn.Module):\n",
    "    def __init__(self, input_dim, hidden_dim, output_dim):\n",
    "        super().__init__()\n",
    "        self.fc1 = nn.Linear(input_dim, hidden_dim)\n",
    "        self.relu = nn.ReLU()\n",
    "        self.fc2 = nn.Linear(hidden_dim, output_dim)\n",
    "\n",
    "    def forward(self, x):\n",
    "        x = self.fc1(x)\n",
    "        x = self.relu(x)\n",
    "        x = self.fc2(x)\n",
    "        return x\n",
    "\n",
    "def flatten_model_weights(model):\n",
    "    return torch.cat([p.view(-1) for p in model.parameters()]).detach().cpu().numpy()\n",
    "\n",
    "def set_model_weights(model, flat_weights):\n",
    "    with torch.no_grad():\n",
    "        offset = 0\n",
    "        for p in model.parameters():\n",
    "            shape = p.shape\n",
    "            size = p.numel()\n",
    "            new_weights = flat_weights[offset:offset+size].reshape(shape)\n",
    "            p.copy_(torch.tensor(new_weights, dtype=p.dtype))\n",
    "            offset += size"
   ]
  },
  {
   "cell_type": "code",
   "execution_count": 181,
   "id": "ed87dc4b",
   "metadata": {},
   "outputs": [],
   "source": [
    "# Define layer sizes\n",
    "input_dim = X_temp.shape[1]\n",
    "hidden_dim = 16\n",
    "output_dim = len(np.unique(y_temp))\n",
    "layer_sizes = [input_dim, hidden_dim, output_dim]\n",
    "\n",
    "# Cross-validation setup\n",
    "n_splits = 5\n",
    "outer_cv = StratifiedKFold(n_splits=n_splits, shuffle=True, random_state=42)"
   ]
  },
  {
   "cell_type": "markdown",
   "id": "2afc9c25",
   "metadata": {},
   "source": [
    "# GD"
   ]
  },
  {
   "cell_type": "code",
   "execution_count": 217,
   "id": "5f488b40",
   "metadata": {},
   "outputs": [
    {
     "name": "stdout",
     "output_type": "stream",
     "text": [
      "[GD]    Fold 1 training.\n",
      "[Fold 1] Validation Accuracy = 0.7615\n",
      "[GD]    Fold 2 training.\n",
      "[Fold 2] Validation Accuracy = 0.7462\n",
      "[GD]    Fold 3 training.\n",
      "[Fold 3] Validation Accuracy = 0.7786\n",
      "[GD]    Fold 4 training.\n",
      "[Fold 4] Validation Accuracy = 0.7411\n",
      "[GD]    Fold 5 training.\n",
      "[Fold 5] Validation Accuracy = 0.7575\n"
     ]
    }
   ],
   "source": [
    "# GD\n",
    "val_accuracies_gd = []\n",
    "val_losses_gd = []\n",
    "trained_models_gd = []\n",
    "\n",
    "for fold, (train_idx, val_idx) in enumerate(outer_cv.split(X_temp, y_temp)):\n",
    "    print(f\"[GD]    Fold {fold+1} training.\")\n",
    "    X_train, X_val = X_temp[train_idx], X_temp[val_idx]\n",
    "    y_train, y_val = y_temp[train_idx], y_temp[val_idx]\n",
    "\n",
    "    model = SimpleNN(input_dim, hidden_dim, output_dim)\n",
    "    result = gd_nn(model, X_train, y_train, X_val, y_val,\n",
    "                   loss_type=\"cross_entropy\", optimizer_type=\"sgd\",\n",
    "                   lr=0.01, batch_size=16, epochs=50,\n",
    "                   track_val_loss=True, track_val_accuracy=True,\n",
    "                   early_stopping=True, verbose=False)\n",
    "\n",
    "    best_x, _, train_loss, val_loss, _, val_accs = result\n",
    "    set_model_weights(model, best_x)\n",
    "\n",
    "    val_accuracy = val_accs[-1] if val_accs else 0.0\n",
    "    val_accuracies_gd.append(val_accuracy)\n",
    "    val_losses_gd.append(val_loss[-1] if val_loss else 0.0)\n",
    "    trained_models_gd.append(model)\n",
    "\n",
    "    print(f\"[Fold {fold+1}] Validation Accuracy = {val_accuracy:.4f}\")"
   ]
  },
  {
   "cell_type": "code",
   "execution_count": 219,
   "id": "2f6b995d",
   "metadata": {},
   "outputs": [
    {
     "name": "stdout",
     "output_type": "stream",
     "text": [
      "\n",
      "[GD] Best Fold: 3 | Test Accuracy = 0.7608\n",
      "\n",
      "[GD] Classification Report on Test Set:\n",
      "              precision    recall  f1-score   support\n",
      "\n",
      "           0     0.6921    0.6268    0.6579       477\n",
      "           1     0.7949    0.8384    0.8161       823\n",
      "\n",
      "    accuracy                         0.7608      1300\n",
      "   macro avg     0.7435    0.7326    0.7370      1300\n",
      "weighted avg     0.7572    0.7608    0.7580      1300\n",
      "\n"
     ]
    },
    {
     "data": {
      "image/png": "[encoded data removed]",
      "text/plain": [
       "<Figure size 640x480 with 2 Axes>"
      ]
     },
     "metadata": {},
     "output_type": "display_data"
    }
   ],
   "source": [
    "# pick best model (highest validation accuracy)\n",
    "best_fold_gd = int(np.argmax(val_accuracies_gd))\n",
    "best_model_gd = trained_models_gd[best_fold_gd]\n",
    "\n",
    "# evaluate on held-out test set\n",
    "best_model_gd.eval()\n",
    "with torch.no_grad():\n",
    "    X_test_tensor = torch.tensor(X_test, dtype=torch.float32)\n",
    "    preds = best_model_gd(X_test_tensor).argmax(dim=1).numpy()\n",
    "\n",
    "    acc = accuracy_score(y_test, preds)\n",
    "    print(f\"\\n[GD] Best Fold: {best_fold_gd+1} | Test Accuracy = {acc:.4f}\")\n",
    "\n",
    "    # classification report\n",
    "    print(\"\\n[GD] Classification Report on Test Set:\")\n",
    "    print(classification_report(y_test, preds, digits=4))\n",
    "\n",
    "    # confusion matrix\n",
    "    cm = confusion_matrix(y_test, preds)\n",
    "    disp = ConfusionMatrixDisplay(confusion_matrix=cm, display_labels=np.unique(y_test))\n",
    "    disp.plot(cmap='Blues')\n",
    "    plt.title(f\"GD Confusion Matrix on Test Set (Best Fold {best_fold_gd+1})\")\n",
    "    plt.grid(False)\n",
    "    plt.show()"
   ]
  },
  {
   "cell_type": "markdown",
   "id": "e9d2c226",
   "metadata": {},
   "source": [
    "# SA"
   ]
  },
  {
   "cell_type": "code",
   "execution_count": 215,
   "id": "c511583b",
   "metadata": {},
   "outputs": [
    {
     "name": "stdout",
     "output_type": "stream",
     "text": [
      "[SA] Fold 1 start\n",
      "[SA] Fold 1 Validation Accuracy = 0.3548\n",
      "[SA] Fold 2 start\n",
      "[SA] Fold 2 Validation Accuracy = 0.4048\n",
      "[SA] Fold 3 start\n",
      "[SA] Fold 3 Validation Accuracy = 0.3927\n",
      "[SA] Fold 4 start\n"
     ]
    },
    {
     "name": "stdout",
     "output_type": "stream",
     "text": [
      "[SA] Fold 4 Validation Accuracy = 0.6169\n",
      "[SA] Fold 5 start\n",
      "[SA] Fold 5 Validation Accuracy = 0.4601\n"
     ]
    }
   ],
   "source": [
    "# SA\n",
    "val_accuracies_sa = []\n",
    "val_losses_sa = []\n",
    "trained_models_sa = []\n",
    "\n",
    "for fold, (train_idx, val_idx) in enumerate(outer_cv.split(X_temp, y_temp)):\n",
    "    print(f\"[SA] Fold {fold+1} start\")\n",
    "\n",
    "    X_train, X_val = X_temp[train_idx], X_temp[val_idx]\n",
    "    y_train, y_val = y_temp[train_idx], y_temp[val_idx]\n",
    "\n",
    "    model = SimpleNN(input_dim, hidden_dim, output_dim)\n",
    "    x_init = flatten_model_weights(model)\n",
    "    layer_sizes = [input_dim, hidden_dim, output_dim]\n",
    "\n",
    "    result = sa_nn(\n",
    "        x_init=x_init,\n",
    "        layer_sizes=layer_sizes,\n",
    "        X_train=X_train,\n",
    "        y_train=y_train,\n",
    "        X_val=X_val,\n",
    "        y_val=y_val,\n",
    "        loss_type=\"cross_entropy\",\n",
    "        step_size=0.001,\n",
    "        alpha = 0.999,\n",
    "        max_iter=200000,\n",
    "        track_val_loss=True,\n",
    "        track_val_accuracy=True,\n",
    "        early_stopping=True,\n",
    "        verbose=False,\n",
    "        patience = 10, \n",
    "        adaptive_step_size = False\n",
    "    )\n",
    "\n",
    "    best_x, _, train_loss, val_loss, _, val_accs = result\n",
    "    set_model_weights(model, best_x)\n",
    "\n",
    "    val_accuracy = val_accs[-1] if val_accs else 0.0\n",
    "    val_accuracies_sa.append(val_accuracy)\n",
    "    val_losses_sa.append(val_loss[-1] if val_loss else 0.0)\n",
    "    trained_models_sa.append(model)\n",
    "\n",
    "    print(f\"[SA] Fold {fold+1} Validation Accuracy = {val_accuracy:.4f}\")"
   ]
  },
  {
   "cell_type": "code",
   "execution_count": 220,
   "metadata": {},
   "outputs": [
    {
     "name": "stdout",
     "output_type": "stream",
     "text": [
      "\n",
      "[SA] Best Fold: 4 | Test Accuracy = 0.6085\n",
      "\n",
      "[SA] Classification Report on Test Set:\n",
      "              precision    recall  f1-score   support\n",
      "\n",
      "           0     0.2500    0.0335    0.0591       477\n",
      "           1     0.6270    0.9417    0.7528       823\n",
      "\n",
      "    accuracy                         0.6085      1300\n",
      "   macro avg     0.4385    0.4876    0.4060      1300\n",
      "weighted avg     0.4887    0.6085    0.4983      1300\n",
      "\n"
     ]
    },
    {
     "data": {
      "image/png": "[encoded data removed]",
      "text/plain": [
       "<Figure size 640x480 with 2 Axes>"
      ]
     },
     "metadata": {},
     "output_type": "display_data"
    }
   ],
   "source": [
    "# pick best model (highest validation accuracy)\n",
    "best_fold_sa = int(np.argmax(val_accuracies_sa))\n",
    "best_model_sa = trained_models_sa[best_fold_sa]\n",
    "\n",
    "# evaluate on held-out test set\n",
    "best_model_sa.eval()\n",
    "with torch.no_grad():\n",
    "    X_test_tensor = torch.tensor(X_test, dtype=torch.float32)\n",
    "    preds = best_model_sa(X_test_tensor).argmax(dim=1).numpy()\n",
    "\n",
    "    acc = accuracy_score(y_test, preds)\n",
    "    print(f\"\\n[SA] Best Fold: {best_fold_sa+1} | Test Accuracy = {acc:.4f}\")\n",
    "\n",
    "    # classification report\n",
    "    print(\"\\n[SA] Classification Report on Test Set:\")\n",
    "    print(classification_report(y_test, preds, digits=4))\n",
    "\n",
    "    # confusion matrix\n",
    "    cm = confusion_matrix(y_test, preds)\n",
    "    disp = ConfusionMatrixDisplay(confusion_matrix=cm, display_labels=np.unique(y_test))\n",
    "    disp.plot(cmap='Blues')\n",
    "    plt.title(f\"SA Confusion Matrix on Test Set (Best Fold {best_fold_sa+1})\")\n",
    "    plt.grid(False)\n",
    "    plt.show()"
   ]
  }
 ],
 "metadata": {
  "kernelspec": {
   "display_name": "venv_thesis",
   "language": "python",
   "name": "python3"
  },
  "language_info": {
   "codemirror_mode": {
    "name": "ipython",
    "version": 3
   },
   "file_extension": ".py",
   "mimetype": "text/x-python",
   "name": "python",
   "nbconvert_exporter": "python",
   "pygments_lexer": "ipython3",
   "version": "3.12.0"
  }
 },
 "nbformat": 4,
 "nbformat_minor": 5
}
