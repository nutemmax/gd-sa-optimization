{
 "cells": [
  {
   "cell_type": "markdown",
   "id": "53b20f64",
   "metadata": {},
   "source": [
    "# Imports"
   ]
  },
  {
   "cell_type": "code",
   "execution_count": 51,
   "id": "2a4fcd43",
   "metadata": {},
   "outputs": [],
   "source": [
    "import numpy as np\n",
    "import pandas as pd\n",
    "import matplotlib.pyplot as plt\n",
    "import torch\n",
    "import torch.nn as nn\n",
    "\n",
    "import json\n",
    "import csv\n",
    "\n",
    "import torch.optim as optim\n",
    "from sklearn.model_selection import train_test_split\n",
    "from sklearn.preprocessing import StandardScaler, OneHotEncoder\n",
    "from sklearn.metrics import accuracy_score, confusion_matrix, classification_report, log_loss\n",
    "from sklearn.model_selection import StratifiedKFold\n",
    "from sklearn.metrics import ConfusionMatrixDisplay\n",
    "from sklearn.model_selection import ParameterGrid\n",
    "from torch.utils.data import DataLoader, TensorDataset\n",
    "\n",
    "\n",
    "import pandas as pd\n",
    "import seaborn as sns\n",
    "import time\n",
    "\n",
    "# project root (one level above 'notebooks/') to the path - go to the parent of 'src/'\n",
    "import sys\n",
    "import os\n",
    "\n",
    "project_root = os.path.abspath(os.path.join(os.getcwd(), \"..\"))\n",
    "if project_root not in sys.path:\n",
    "    sys.path.insert(0, project_root)\n",
    "\n",
    "results_dir = os.path.join(project_root, \"results\")\n",
    "gridsearch_path = os.path.join(results_dir, \"gridsearch\", \"sa_adam_nn\")\n",
    "final_results_path = os.path.join(results_dir, \"analytical\", \"sa_gd_nn\")\n",
    "\n",
    "os.makedirs(gridsearch_path, exist_ok=True)\n",
    "os.makedirs(final_results_path, exist_ok=True)\n",
    "\n",
    "from src.optimizers.sa_nn import sa_nn\n",
    "from src.optimizers.gd_nn import gd_nn\n",
    "from src.problems.nn import init_weights, flatten_weights, unflatten_weights"
   ]
  },
  {
   "cell_type": "code",
   "execution_count": 3,
   "id": "9f460d69",
   "metadata": {},
   "outputs": [],
   "source": [
    "from sklearn.datasets import load_wine\n",
    "from sklearn.preprocessing import StandardScaler, OneHotEncoder\n",
    "from sklearn.model_selection import train_test_split\n",
    "from ucimlrepo import fetch_ucirepo "
   ]
  },
  {
   "cell_type": "code",
   "execution_count": 4,
   "id": "b95fb32b",
   "metadata": {},
   "outputs": [],
   "source": [
    "# random seed set\n",
    "np.random.seed(0)"
   ]
  },
  {
   "cell_type": "code",
   "execution_count": 5,
   "id": "c69c8d8c",
   "metadata": {},
   "outputs": [],
   "source": [
    "wine_data = load_wine()\n",
    "df = pd.DataFrame(data=wine_data.data, columns=wine_data.feature_names)\n",
    "df['target'] = wine_data.target\n",
    "df = df[['target'] + [col for col in df.columns if col != 'target']]"
   ]
  },
  {
   "cell_type": "code",
   "execution_count": 6,
   "id": "7761c4b2",
   "metadata": {},
   "outputs": [],
   "source": [
    "# fetch dataset\n",
    "wine_quality = fetch_ucirepo(id=186)\n",
    "\n",
    "# extract features and target\n",
    "X = wine_quality.data.features\n",
    "y = wine_quality.data.targets\n",
    "\n",
    "# concatenate target and features into one dataframe, with target as first column\n",
    "df = pd.concat([y, X], axis=1)\n",
    "df.columns = ['target'] + list(X.columns)"
   ]
  },
  {
   "cell_type": "code",
   "execution_count": 7,
   "id": "73815d30",
   "metadata": {},
   "outputs": [],
   "source": [
    "# group target into 3 classes: 0 (low), 1 (medium), 2 (high)\n",
    "df[\"target_grouped\"] = df[\"target\"].map(lambda x: 0 if x <= 5 else 1)\n",
    "\n",
    "# move target_grouped to first column\n",
    "cols = [\"target_grouped\"] + [col for col in df.columns if col not in [\"target_grouped\", \"target\"]]\n",
    "df = df[cols]"
   ]
  },
  {
   "cell_type": "code",
   "execution_count": 8,
   "id": "4aa57dca",
   "metadata": {},
   "outputs": [
    {
     "data": {
      "text/html": [
       "<div>\n",
       "<style scoped>\n",
       "    .dataframe tbody tr th:only-of-type {\n",
       "        vertical-align: middle;\n",
       "    }\n",
       "\n",
       "    .dataframe tbody tr th {\n",
       "        vertical-align: top;\n",
       "    }\n",
       "\n",
       "    .dataframe thead th {\n",
       "        text-align: right;\n",
       "    }\n",
       "</style>\n",
       "<table border=\"1\" class=\"dataframe\">\n",
       "  <thead>\n",
       "    <tr style=\"text-align: right;\">\n",
       "      <th></th>\n",
       "      <th>target_grouped</th>\n",
       "      <th>fixed_acidity</th>\n",
       "      <th>volatile_acidity</th>\n",
       "      <th>citric_acid</th>\n",
       "      <th>residual_sugar</th>\n",
       "      <th>chlorides</th>\n",
       "      <th>free_sulfur_dioxide</th>\n",
       "      <th>total_sulfur_dioxide</th>\n",
       "      <th>density</th>\n",
       "      <th>pH</th>\n",
       "      <th>sulphates</th>\n",
       "      <th>alcohol</th>\n",
       "    </tr>\n",
       "  </thead>\n",
       "  <tbody>\n",
       "    <tr>\n",
       "      <th>0</th>\n",
       "      <td>0</td>\n",
       "      <td>7.4</td>\n",
       "      <td>0.70</td>\n",
       "      <td>0.00</td>\n",
       "      <td>1.9</td>\n",
       "      <td>0.076</td>\n",
       "      <td>11.0</td>\n",
       "      <td>34.0</td>\n",
       "      <td>0.9978</td>\n",
       "      <td>3.51</td>\n",
       "      <td>0.56</td>\n",
       "      <td>9.4</td>\n",
       "    </tr>\n",
       "    <tr>\n",
       "      <th>1</th>\n",
       "      <td>0</td>\n",
       "      <td>7.8</td>\n",
       "      <td>0.88</td>\n",
       "      <td>0.00</td>\n",
       "      <td>2.6</td>\n",
       "      <td>0.098</td>\n",
       "      <td>25.0</td>\n",
       "      <td>67.0</td>\n",
       "      <td>0.9968</td>\n",
       "      <td>3.20</td>\n",
       "      <td>0.68</td>\n",
       "      <td>9.8</td>\n",
       "    </tr>\n",
       "    <tr>\n",
       "      <th>2</th>\n",
       "      <td>0</td>\n",
       "      <td>7.8</td>\n",
       "      <td>0.76</td>\n",
       "      <td>0.04</td>\n",
       "      <td>2.3</td>\n",
       "      <td>0.092</td>\n",
       "      <td>15.0</td>\n",
       "      <td>54.0</td>\n",
       "      <td>0.9970</td>\n",
       "      <td>3.26</td>\n",
       "      <td>0.65</td>\n",
       "      <td>9.8</td>\n",
       "    </tr>\n",
       "    <tr>\n",
       "      <th>3</th>\n",
       "      <td>1</td>\n",
       "      <td>11.2</td>\n",
       "      <td>0.28</td>\n",
       "      <td>0.56</td>\n",
       "      <td>1.9</td>\n",
       "      <td>0.075</td>\n",
       "      <td>17.0</td>\n",
       "      <td>60.0</td>\n",
       "      <td>0.9980</td>\n",
       "      <td>3.16</td>\n",
       "      <td>0.58</td>\n",
       "      <td>9.8</td>\n",
       "    </tr>\n",
       "    <tr>\n",
       "      <th>4</th>\n",
       "      <td>0</td>\n",
       "      <td>7.4</td>\n",
       "      <td>0.70</td>\n",
       "      <td>0.00</td>\n",
       "      <td>1.9</td>\n",
       "      <td>0.076</td>\n",
       "      <td>11.0</td>\n",
       "      <td>34.0</td>\n",
       "      <td>0.9978</td>\n",
       "      <td>3.51</td>\n",
       "      <td>0.56</td>\n",
       "      <td>9.4</td>\n",
       "    </tr>\n",
       "  </tbody>\n",
       "</table>\n",
       "</div>"
      ],
      "text/plain": [
       "   target_grouped  fixed_acidity  volatile_acidity  citric_acid  \\\n",
       "0               0            7.4              0.70         0.00   \n",
       "1               0            7.8              0.88         0.00   \n",
       "2               0            7.8              0.76         0.04   \n",
       "3               1           11.2              0.28         0.56   \n",
       "4               0            7.4              0.70         0.00   \n",
       "\n",
       "   residual_sugar  chlorides  free_sulfur_dioxide  total_sulfur_dioxide  \\\n",
       "0             1.9      0.076                 11.0                  34.0   \n",
       "1             2.6      0.098                 25.0                  67.0   \n",
       "2             2.3      0.092                 15.0                  54.0   \n",
       "3             1.9      0.075                 17.0                  60.0   \n",
       "4             1.9      0.076                 11.0                  34.0   \n",
       "\n",
       "   density    pH  sulphates  alcohol  \n",
       "0   0.9978  3.51       0.56      9.4  \n",
       "1   0.9968  3.20       0.68      9.8  \n",
       "2   0.9970  3.26       0.65      9.8  \n",
       "3   0.9980  3.16       0.58      9.8  \n",
       "4   0.9978  3.51       0.56      9.4  "
      ]
     },
     "execution_count": 8,
     "metadata": {},
     "output_type": "execute_result"
    }
   ],
   "source": [
    "df.head()"
   ]
  },
  {
   "cell_type": "markdown",
   "id": "20359bd4",
   "metadata": {},
   "source": [
    "# Basic EDA"
   ]
  },
  {
   "cell_type": "code",
   "execution_count": 9,
   "id": "9ddcd5ad",
   "metadata": {},
   "outputs": [
    {
     "data": {
      "text/html": [
       "<div>\n",
       "<style scoped>\n",
       "    .dataframe tbody tr th:only-of-type {\n",
       "        vertical-align: middle;\n",
       "    }\n",
       "\n",
       "    .dataframe tbody tr th {\n",
       "        vertical-align: top;\n",
       "    }\n",
       "\n",
       "    .dataframe thead th {\n",
       "        text-align: right;\n",
       "    }\n",
       "</style>\n",
       "<table border=\"1\" class=\"dataframe\">\n",
       "  <thead>\n",
       "    <tr style=\"text-align: right;\">\n",
       "      <th></th>\n",
       "      <th>target_grouped</th>\n",
       "      <th>fixed_acidity</th>\n",
       "      <th>volatile_acidity</th>\n",
       "      <th>citric_acid</th>\n",
       "      <th>residual_sugar</th>\n",
       "      <th>chlorides</th>\n",
       "      <th>free_sulfur_dioxide</th>\n",
       "      <th>total_sulfur_dioxide</th>\n",
       "      <th>density</th>\n",
       "      <th>pH</th>\n",
       "      <th>sulphates</th>\n",
       "      <th>alcohol</th>\n",
       "    </tr>\n",
       "  </thead>\n",
       "  <tbody>\n",
       "    <tr>\n",
       "      <th>count</th>\n",
       "      <td>6497.000000</td>\n",
       "      <td>6497.000000</td>\n",
       "      <td>6497.000000</td>\n",
       "      <td>6497.000000</td>\n",
       "      <td>6497.000000</td>\n",
       "      <td>6497.000000</td>\n",
       "      <td>6497.000000</td>\n",
       "      <td>6497.000000</td>\n",
       "      <td>6497.000000</td>\n",
       "      <td>6497.000000</td>\n",
       "      <td>6497.000000</td>\n",
       "      <td>6497.000000</td>\n",
       "    </tr>\n",
       "    <tr>\n",
       "      <th>mean</th>\n",
       "      <td>0.633061</td>\n",
       "      <td>7.215307</td>\n",
       "      <td>0.339666</td>\n",
       "      <td>0.318633</td>\n",
       "      <td>5.443235</td>\n",
       "      <td>0.056034</td>\n",
       "      <td>30.525319</td>\n",
       "      <td>115.744574</td>\n",
       "      <td>0.994697</td>\n",
       "      <td>3.218501</td>\n",
       "      <td>0.531268</td>\n",
       "      <td>10.491801</td>\n",
       "    </tr>\n",
       "    <tr>\n",
       "      <th>std</th>\n",
       "      <td>0.482007</td>\n",
       "      <td>1.296434</td>\n",
       "      <td>0.164636</td>\n",
       "      <td>0.145318</td>\n",
       "      <td>4.757804</td>\n",
       "      <td>0.035034</td>\n",
       "      <td>17.749400</td>\n",
       "      <td>56.521855</td>\n",
       "      <td>0.002999</td>\n",
       "      <td>0.160787</td>\n",
       "      <td>0.148806</td>\n",
       "      <td>1.192712</td>\n",
       "    </tr>\n",
       "    <tr>\n",
       "      <th>min</th>\n",
       "      <td>0.000000</td>\n",
       "      <td>3.800000</td>\n",
       "      <td>0.080000</td>\n",
       "      <td>0.000000</td>\n",
       "      <td>0.600000</td>\n",
       "      <td>0.009000</td>\n",
       "      <td>1.000000</td>\n",
       "      <td>6.000000</td>\n",
       "      <td>0.987110</td>\n",
       "      <td>2.720000</td>\n",
       "      <td>0.220000</td>\n",
       "      <td>8.000000</td>\n",
       "    </tr>\n",
       "    <tr>\n",
       "      <th>25%</th>\n",
       "      <td>0.000000</td>\n",
       "      <td>6.400000</td>\n",
       "      <td>0.230000</td>\n",
       "      <td>0.250000</td>\n",
       "      <td>1.800000</td>\n",
       "      <td>0.038000</td>\n",
       "      <td>17.000000</td>\n",
       "      <td>77.000000</td>\n",
       "      <td>0.992340</td>\n",
       "      <td>3.110000</td>\n",
       "      <td>0.430000</td>\n",
       "      <td>9.500000</td>\n",
       "    </tr>\n",
       "    <tr>\n",
       "      <th>50%</th>\n",
       "      <td>1.000000</td>\n",
       "      <td>7.000000</td>\n",
       "      <td>0.290000</td>\n",
       "      <td>0.310000</td>\n",
       "      <td>3.000000</td>\n",
       "      <td>0.047000</td>\n",
       "      <td>29.000000</td>\n",
       "      <td>118.000000</td>\n",
       "      <td>0.994890</td>\n",
       "      <td>3.210000</td>\n",
       "      <td>0.510000</td>\n",
       "      <td>10.300000</td>\n",
       "    </tr>\n",
       "    <tr>\n",
       "      <th>75%</th>\n",
       "      <td>1.000000</td>\n",
       "      <td>7.700000</td>\n",
       "      <td>0.400000</td>\n",
       "      <td>0.390000</td>\n",
       "      <td>8.100000</td>\n",
       "      <td>0.065000</td>\n",
       "      <td>41.000000</td>\n",
       "      <td>156.000000</td>\n",
       "      <td>0.996990</td>\n",
       "      <td>3.320000</td>\n",
       "      <td>0.600000</td>\n",
       "      <td>11.300000</td>\n",
       "    </tr>\n",
       "    <tr>\n",
       "      <th>max</th>\n",
       "      <td>1.000000</td>\n",
       "      <td>15.900000</td>\n",
       "      <td>1.580000</td>\n",
       "      <td>1.660000</td>\n",
       "      <td>65.800000</td>\n",
       "      <td>0.611000</td>\n",
       "      <td>289.000000</td>\n",
       "      <td>440.000000</td>\n",
       "      <td>1.038980</td>\n",
       "      <td>4.010000</td>\n",
       "      <td>2.000000</td>\n",
       "      <td>14.900000</td>\n",
       "    </tr>\n",
       "  </tbody>\n",
       "</table>\n",
       "</div>"
      ],
      "text/plain": [
       "       target_grouped  fixed_acidity  volatile_acidity  citric_acid  \\\n",
       "count     6497.000000    6497.000000       6497.000000  6497.000000   \n",
       "mean         0.633061       7.215307          0.339666     0.318633   \n",
       "std          0.482007       1.296434          0.164636     0.145318   \n",
       "min          0.000000       3.800000          0.080000     0.000000   \n",
       "25%          0.000000       6.400000          0.230000     0.250000   \n",
       "50%          1.000000       7.000000          0.290000     0.310000   \n",
       "75%          1.000000       7.700000          0.400000     0.390000   \n",
       "max          1.000000      15.900000          1.580000     1.660000   \n",
       "\n",
       "       residual_sugar    chlorides  free_sulfur_dioxide  total_sulfur_dioxide  \\\n",
       "count     6497.000000  6497.000000          6497.000000           6497.000000   \n",
       "mean         5.443235     0.056034            30.525319            115.744574   \n",
       "std          4.757804     0.035034            17.749400             56.521855   \n",
       "min          0.600000     0.009000             1.000000              6.000000   \n",
       "25%          1.800000     0.038000            17.000000             77.000000   \n",
       "50%          3.000000     0.047000            29.000000            118.000000   \n",
       "75%          8.100000     0.065000            41.000000            156.000000   \n",
       "max         65.800000     0.611000           289.000000            440.000000   \n",
       "\n",
       "           density           pH    sulphates      alcohol  \n",
       "count  6497.000000  6497.000000  6497.000000  6497.000000  \n",
       "mean      0.994697     3.218501     0.531268    10.491801  \n",
       "std       0.002999     0.160787     0.148806     1.192712  \n",
       "min       0.987110     2.720000     0.220000     8.000000  \n",
       "25%       0.992340     3.110000     0.430000     9.500000  \n",
       "50%       0.994890     3.210000     0.510000    10.300000  \n",
       "75%       0.996990     3.320000     0.600000    11.300000  \n",
       "max       1.038980     4.010000     2.000000    14.900000  "
      ]
     },
     "execution_count": 9,
     "metadata": {},
     "output_type": "execute_result"
    }
   ],
   "source": [
    "df.describe()"
   ]
  },
  {
   "cell_type": "code",
   "execution_count": 10,
   "id": "a9997dc4",
   "metadata": {},
   "outputs": [
    {
     "name": "stdout",
     "output_type": "stream",
     "text": [
      "<class 'pandas.core.frame.DataFrame'>\n",
      "RangeIndex: 6497 entries, 0 to 6496\n",
      "Data columns (total 12 columns):\n",
      " #   Column                Non-Null Count  Dtype  \n",
      "---  ------                --------------  -----  \n",
      " 0   target_grouped        6497 non-null   int64  \n",
      " 1   fixed_acidity         6497 non-null   float64\n",
      " 2   volatile_acidity      6497 non-null   float64\n",
      " 3   citric_acid           6497 non-null   float64\n",
      " 4   residual_sugar        6497 non-null   float64\n",
      " 5   chlorides             6497 non-null   float64\n",
      " 6   free_sulfur_dioxide   6497 non-null   float64\n",
      " 7   total_sulfur_dioxide  6497 non-null   float64\n",
      " 8   density               6497 non-null   float64\n",
      " 9   pH                    6497 non-null   float64\n",
      " 10  sulphates             6497 non-null   float64\n",
      " 11  alcohol               6497 non-null   float64\n",
      "dtypes: float64(11), int64(1)\n",
      "memory usage: 609.2 KB\n"
     ]
    }
   ],
   "source": [
    "df.info()"
   ]
  },
  {
   "cell_type": "code",
   "execution_count": 11,
   "id": "3bf077aa",
   "metadata": {},
   "outputs": [
    {
     "data": {
      "text/plain": [
       "target_grouped\n",
       "1    4113\n",
       "0    2384\n",
       "Name: count, dtype: int64"
      ]
     },
     "execution_count": 11,
     "metadata": {},
     "output_type": "execute_result"
    }
   ],
   "source": [
    "df['target_grouped'].value_counts()\n"
   ]
  },
  {
   "cell_type": "code",
   "execution_count": 12,
   "id": "c264efc0",
   "metadata": {},
   "outputs": [
    {
     "data": {
      "text/plain": [
       "target_grouped          0\n",
       "fixed_acidity           0\n",
       "volatile_acidity        0\n",
       "citric_acid             0\n",
       "residual_sugar          0\n",
       "chlorides               0\n",
       "free_sulfur_dioxide     0\n",
       "total_sulfur_dioxide    0\n",
       "density                 0\n",
       "pH                      0\n",
       "sulphates               0\n",
       "alcohol                 0\n",
       "dtype: int64"
      ]
     },
     "execution_count": 12,
     "metadata": {},
     "output_type": "execute_result"
    }
   ],
   "source": [
    "df.isnull().sum()"
   ]
  },
  {
   "cell_type": "code",
   "execution_count": 13,
   "id": "d838b236",
   "metadata": {},
   "outputs": [
    {
     "data": {
      "image/png": "[encoded data removed]",
      "text/plain": [
       "<Figure size 1000x800 with 2 Axes>"
      ]
     },
     "metadata": {},
     "output_type": "display_data"
    }
   ],
   "source": [
    "# feature correlations\n",
    "plt.figure(figsize=(10, 8))\n",
    "sns.heatmap(df.corr(), cmap='coolwarm', annot=False)\n",
    "plt.title(\"Feature Correlation Matrix\")\n",
    "plt.show()"
   ]
  },
  {
   "cell_type": "code",
   "execution_count": 14,
   "id": "435ba983",
   "metadata": {},
   "outputs": [
    {
     "data": {
      "image/png": "[encoded data removed]",
      "text/plain": [
       "<Figure size 640x480 with 1 Axes>"
      ]
     },
     "metadata": {},
     "output_type": "display_data"
    }
   ],
   "source": [
    "df['target_grouped'].value_counts().sort_index().plot(kind='bar')\n",
    "plt.title(\"Wine Quality Class Distribution\")\n",
    "plt.xlabel(\"Quality Score\")\n",
    "plt.ylabel(\"Count\")\n",
    "plt.grid(True)\n",
    "plt.show()"
   ]
  },
  {
   "cell_type": "markdown",
   "id": "e175e81d",
   "metadata": {},
   "source": [
    "# Preprocessing"
   ]
  },
  {
   "cell_type": "code",
   "execution_count": 15,
   "id": "9ff954b2",
   "metadata": {},
   "outputs": [
    {
     "name": "stdout",
     "output_type": "stream",
     "text": [
      "Shape: (6497, 11)\n",
      "Classes: [2384 4113]\n"
     ]
    }
   ],
   "source": [
    "X = df.drop(columns=[\"target_grouped\"]).values\n",
    "y = df[\"target_grouped\"].values\n",
    "\n",
    "# normalize\n",
    "scaler = StandardScaler()\n",
    "X_scaled = scaler.fit_transform(X)\n",
    "\n",
    "print(\"Shape:\", X.shape)\n",
    "print(\"Classes:\", np.bincount(y))"
   ]
  },
  {
   "cell_type": "code",
   "execution_count": 16,
   "id": "edf4ab17",
   "metadata": {},
   "outputs": [],
   "source": [
    "# First split: train+val and test\n",
    "X_temp, X_test, y_temp, y_test = train_test_split(\n",
    "    X_scaled, y, test_size=0.2, random_state=42, stratify=y\n",
    ")"
   ]
  },
  {
   "cell_type": "markdown",
   "id": "c25ffc6a",
   "metadata": {},
   "source": [
    "# NN Architecture"
   ]
  },
  {
   "cell_type": "code",
   "execution_count": 27,
   "id": "c0fdb604",
   "metadata": {},
   "outputs": [],
   "source": [
    "class SimpleNN(nn.Module):\n",
    "    def __init__(self, input_dim, hidden_dim, output_dim):\n",
    "        super().__init__()\n",
    "        self.fc1 = nn.Linear(input_dim, hidden_dim)\n",
    "        self.relu = nn.ReLU()\n",
    "        self.fc2 = nn.Linear(hidden_dim, output_dim)\n",
    "\n",
    "    def forward(self, x):\n",
    "        x = self.fc1(x)\n",
    "        x = self.relu(x)\n",
    "        x = self.fc2(x)\n",
    "        return x\n",
    "\n",
    "def flatten_model_weights(model):\n",
    "    return torch.cat([p.view(-1) for p in model.parameters()]).detach().cpu().numpy()\n",
    "\n",
    "def set_model_weights(model, flat_weights):\n",
    "    with torch.no_grad():\n",
    "        offset = 0\n",
    "        for p in model.parameters():\n",
    "            shape = p.shape\n",
    "            size = p.numel()\n",
    "            new_weights = flat_weights[offset:offset+size].reshape(shape)\n",
    "            p.copy_(torch.tensor(new_weights, dtype=p.dtype))\n",
    "            offset += size"
   ]
  },
  {
   "cell_type": "code",
   "execution_count": 18,
   "id": "ed87dc4b",
   "metadata": {},
   "outputs": [],
   "source": [
    "# Define layer sizes\n",
    "input_dim = X_temp.shape[1]\n",
    "hidden_dim = 32\n",
    "output_dim = len(np.unique(y_temp))\n",
    "layer_sizes = [input_dim, hidden_dim, output_dim]\n",
    "\n",
    "# Cross-validation setup\n",
    "n_splits = 5\n",
    "outer_cv = StratifiedKFold(n_splits=n_splits, shuffle=True, random_state=42)"
   ]
  },
  {
   "cell_type": "markdown",
   "id": "4f834f49",
   "metadata": {},
   "source": [
    "# GD"
   ]
  },
  {
   "cell_type": "code",
   "execution_count": 61,
   "id": "542d3ddd",
   "metadata": {},
   "outputs": [],
   "source": [
    "def run_gridsearch_adam_nn(X, y, input_dim, hidden_dim, output_dim, save_path):\n",
    "    lrs = [0.001, 0.01, 0.1, 0.3, 0.5]\n",
    "    batch_sizes = [16, 32, 64]\n",
    "    # lrs = [0.001, 0.01]\n",
    "    # batch_sizes = [16]\n",
    "    param_grid = [(lr, bs) for lr in lrs for bs in batch_sizes]\n",
    "    total = len(param_grid)\n",
    "\n",
    "    kfold = StratifiedKFold(n_splits=5, shuffle=True, random_state=42)\n",
    "    rows = []\n",
    "\n",
    "    for idx, (lr, bs) in enumerate(param_grid, 1):\n",
    "        print(f\"\\n[{idx}/{total}] Running: lr = {lr}, batch_size = {bs}\")\n",
    "        t0 = time.time()\n",
    "        fold_accs, fold_prec, fold_rec, fold_f1 = [], [], [], []\n",
    "\n",
    "        for fold, (train_idx, val_idx) in enumerate(kfold.split(X, y)):\n",
    "            X_train, X_val = X[train_idx], X[val_idx]\n",
    "            y_train, y_val = y[train_idx], y[val_idx]\n",
    "\n",
    "            train_ds = TensorDataset(torch.tensor(X_train, dtype=torch.float32),\n",
    "                                     torch.tensor(y_train, dtype=torch.long))\n",
    "            val_ds = TensorDataset(torch.tensor(X_val, dtype=torch.float32),\n",
    "                                   torch.tensor(y_val, dtype=torch.long))\n",
    "\n",
    "            train_loader = DataLoader(train_ds, batch_size=bs, shuffle=True)\n",
    "            val_loader = DataLoader(val_ds, batch_size=bs, shuffle=False)\n",
    "\n",
    "            model = SimpleNN(input_dim, hidden_dim, output_dim)\n",
    "            optimizer = torch.optim.Adam(model.parameters(), lr=lr)\n",
    "            criterion = nn.CrossEntropyLoss()\n",
    "\n",
    "            # Train\n",
    "            for epoch in range(50):\n",
    "                model.train()\n",
    "                for xb, yb in train_loader:\n",
    "                    optimizer.zero_grad()\n",
    "                    loss = criterion(model(xb), yb)\n",
    "                    loss.backward()\n",
    "                    optimizer.step()\n",
    "\n",
    "            # Evaluate\n",
    "            model.eval()\n",
    "            all_preds, all_labels = [], []\n",
    "            with torch.no_grad():\n",
    "                for xb, yb in val_loader:\n",
    "                    preds = model(xb).argmax(dim=1).numpy()\n",
    "                    all_preds.extend(preds)\n",
    "                    all_labels.extend(yb.numpy())\n",
    "\n",
    "            report = classification_report(all_labels, all_preds, output_dict=True, zero_division=0)\n",
    "            fold_accs.append(report[\"accuracy\"])\n",
    "            fold_prec.append(report[\"1\"][\"precision\"])\n",
    "            fold_rec.append(report[\"1\"][\"recall\"])\n",
    "            fold_f1.append(report[\"1\"][\"f1-score\"])\n",
    "\n",
    "        # Save metrics\n",
    "        row = {\n",
    "            \"lr\": lr,\n",
    "            \"batch_size\": bs,\n",
    "            \"val_accuracy\": np.mean(fold_accs),\n",
    "            \"val_precision_class1\": np.mean(fold_prec),\n",
    "            \"val_recall_class1\": np.mean(fold_rec),\n",
    "            \"val_f1_class1\": np.mean(fold_f1),\n",
    "            \"time_seconds\": round(time.time() - t0, 2)\n",
    "        }\n",
    "        rows.append(row)\n",
    "        print(f\"    → Done in {row['time_seconds']}s | Val Acc: {row['val_accuracy']:.4f} | F1: {row['val_f1_class1']:.4f}\")\n",
    "\n",
    "    df = pd.DataFrame(rows)\n",
    "    df.to_csv(os.path.join(save_path, \"gridsearch_adam_nn.csv\"), index=False)\n",
    "    print(f\"\\n✅ Grid search finished. Results saved to {save_path}/gridsearch_adam_nn.csv\")\n",
    "    return df\n"
   ]
  },
  {
   "cell_type": "code",
   "execution_count": 63,
   "id": "acc5b3e3",
   "metadata": {},
   "outputs": [
    {
     "name": "stdout",
     "output_type": "stream",
     "text": [
      "\n",
      "[1/15] Running: lr = 0.001, batch_size = 16\n",
      "    → Done in 151.54s | Val Acc: 0.7697 | F1: 0.8230\n",
      "\n",
      "[2/15] Running: lr = 0.001, batch_size = 32\n",
      "    → Done in 125.66s | Val Acc: 0.7676 | F1: 0.8239\n",
      "\n",
      "[3/15] Running: lr = 0.001, batch_size = 64\n",
      "    → Done in 53.83s | Val Acc: 0.7652 | F1: 0.8188\n",
      "\n",
      "[4/15] Running: lr = 0.01, batch_size = 16\n",
      "    → Done in 164.84s | Val Acc: 0.7537 | F1: 0.8039\n",
      "\n",
      "[5/15] Running: lr = 0.01, batch_size = 32\n",
      "    → Done in 86.86s | Val Acc: 0.7622 | F1: 0.8160\n",
      "\n",
      "[6/15] Running: lr = 0.01, batch_size = 64\n",
      "    → Done in 49.3s | Val Acc: 0.7589 | F1: 0.8126\n",
      "\n",
      "[7/15] Running: lr = 0.1, batch_size = 16\n",
      "    → Done in 215.11s | Val Acc: 0.7360 | F1: 0.7976\n",
      "\n",
      "[8/15] Running: lr = 0.1, batch_size = 32\n",
      "    → Done in 86.11s | Val Acc: 0.7327 | F1: 0.7989\n",
      "\n",
      "[9/15] Running: lr = 0.1, batch_size = 64\n",
      "    → Done in 59.85s | Val Acc: 0.7450 | F1: 0.8095\n",
      "\n",
      "[10/15] Running: lr = 0.3, batch_size = 16\n",
      "    → Done in 164.21s | Val Acc: 0.5803 | F1: 0.6210\n",
      "\n",
      "[11/15] Running: lr = 0.3, batch_size = 32\n",
      "    → Done in 95.04s | Val Acc: 0.6332 | F1: 0.7753\n",
      "\n",
      "[12/15] Running: lr = 0.3, batch_size = 64\n",
      "    → Done in 58.46s | Val Acc: 0.6917 | F1: 0.7577\n",
      "\n",
      "[13/15] Running: lr = 0.5, batch_size = 16\n",
      "    → Done in 116.94s | Val Acc: 0.5805 | F1: 0.6211\n",
      "\n",
      "[14/15] Running: lr = 0.5, batch_size = 32\n",
      "    → Done in 65.58s | Val Acc: 0.6332 | F1: 0.7753\n",
      "\n",
      "[15/15] Running: lr = 0.5, batch_size = 64\n",
      "    → Done in 48.62s | Val Acc: 0.6332 | F1: 0.7753\n",
      "\n",
      "✅ Grid search finished. Results saved to c:\\Users\\emmaa\\OneDrive\\Documents\\0.BOCCONI\\THESIS\\gd-sa-optimization\\results\\gridsearch\\sa_adam_nn/gridsearch_adam_nn.csv\n"
     ]
    }
   ],
   "source": [
    "df_results_adam = run_gridsearch_adam_nn(X_temp, y_temp, input_dim, hidden_dim, output_dim, gridsearch_path)"
   ]
  },
  {
   "cell_type": "code",
   "execution_count": 65,
   "id": "abf48683",
   "metadata": {},
   "outputs": [
    {
     "name": "stdout",
     "output_type": "stream",
     "text": [
      "Best hyperparameters found: learning rate = 0.001, batch size = 16\n"
     ]
    }
   ],
   "source": [
    "# === Load grid search results and find best hyperparameters ===\n",
    "grid_results_path = os.path.join(gridsearch_path, \"gridsearch_adam_nn.csv\")\n",
    "df_grid = pd.read_csv(grid_results_path)\n",
    "\n",
    "# select best row by validation accuracy\n",
    "best_row = df_grid.loc[df_grid[\"val_accuracy\"].idxmax()]\n",
    "best_lr = best_row[\"lr\"]\n",
    "best_bs = int(best_row[\"batch_size\"])\n",
    "print(f\"Best hyperparameters found: learning rate = {best_lr}, batch size = {best_bs}\")"
   ]
  },
  {
   "cell_type": "code",
   "execution_count": 66,
   "id": "924e3d1f",
   "metadata": {},
   "outputs": [],
   "source": [
    "# === Train final model on full train+val set ===\n",
    "final_model = SimpleNN(input_dim, hidden_dim, output_dim)\n",
    "optimizer = torch.optim.Adam(final_model.parameters(), lr=best_lr)\n",
    "criterion = nn.CrossEntropyLoss()\n",
    "\n",
    "trainval_ds = TensorDataset(torch.tensor(X_temp, dtype=torch.float32),\n",
    "                            torch.tensor(y_temp, dtype=torch.long))\n",
    "trainval_loader = DataLoader(trainval_ds, batch_size=best_bs, shuffle=True)\n",
    "\n",
    "for epoch in range(50):\n",
    "    final_model.train()\n",
    "    for xb, yb in trainval_loader:\n",
    "        optimizer.zero_grad()\n",
    "        loss = criterion(final_model(xb), yb)\n",
    "        loss.backward()\n",
    "        optimizer.step()"
   ]
  },
  {
   "cell_type": "code",
   "execution_count": 67,
   "id": "8d6753da",
   "metadata": {},
   "outputs": [
    {
     "name": "stdout",
     "output_type": "stream",
     "text": [
      "\n",
      "[ADAM] Test Accuracy = 0.7762\n",
      "\n",
      "[ADAM] Classification Report on Test Set:\n",
      "              precision    recall  f1-score   support\n",
      "\n",
      "           0     0.6962    0.6918    0.6940       477\n",
      "           1     0.8220    0.8250    0.8235       823\n",
      "\n",
      "    accuracy                         0.7762      1300\n",
      "   macro avg     0.7591    0.7584    0.7588      1300\n",
      "weighted avg     0.7759    0.7762    0.7760      1300\n",
      "\n"
     ]
    },
    {
     "data": {
      "image/png": "[encoded data removed]",
      "text/plain": [
       "<Figure size 640x480 with 2 Axes>"
      ]
     },
     "metadata": {},
     "output_type": "display_data"
    }
   ],
   "source": [
    "# === Evaluate on test set ===\n",
    "final_model.eval()\n",
    "X_test_tensor = torch.tensor(X_test, dtype=torch.float32)\n",
    "y_test_tensor = torch.tensor(y_test, dtype=torch.long)\n",
    "\n",
    "with torch.no_grad():\n",
    "    preds = final_model(X_test_tensor).argmax(dim=1).numpy()\n",
    "\n",
    "# test accuracy\n",
    "acc = accuracy_score(y_test, preds)\n",
    "print(f\"\\n[ADAM] Test Accuracy = {acc:.4f}\")\n",
    "\n",
    "# classification report\n",
    "print(\"\\n[ADAM] Classification Report on Test Set:\")\n",
    "print(classification_report(y_test, preds, digits=4))\n",
    "\n",
    "# confusion matrix\n",
    "cm = confusion_matrix(y_test, preds)\n",
    "disp = ConfusionMatrixDisplay(confusion_matrix=cm, display_labels=np.unique(y_test))\n",
    "disp.plot(cmap='Blues')\n",
    "plt.title(\"Adam Optimizer - Confusion Matrix on Test Set\")\n",
    "plt.grid(False)\n",
    "plt.show()"
   ]
  },
  {
   "cell_type": "code",
   "execution_count": 68,
   "id": "d466f53d",
   "metadata": {},
   "outputs": [
    {
     "name": "stdout",
     "output_type": "stream",
     "text": [
      "\n",
      "Test evaluation report saved to: c:\\Users\\emmaa\\OneDrive\\Documents\\0.BOCCONI\\THESIS\\gd-sa-optimization\\results\\analytical\\sa_gd_nn\\adam_nn_test_evaluation.csv\n"
     ]
    }
   ],
   "source": [
    "# === Save test evaluation report to CSV ===\n",
    "report_dict = classification_report(y_test, preds, output_dict=True, zero_division=0)\n",
    "report_df = pd.DataFrame(report_dict).T\n",
    "report_df[\"test_accuracy\"] = acc\n",
    "\n",
    "save_file = os.path.join(final_results_path, \"adam_nn_test_evaluation.csv\")\n",
    "report_df.to_csv(save_file)\n",
    "\n",
    "print(f\"\\nTest evaluation report saved to: {save_file}\")"
   ]
  },
  {
   "cell_type": "markdown",
   "id": "e9d2c226",
   "metadata": {},
   "source": [
    "# SA"
   ]
  },
  {
   "cell_type": "code",
   "execution_count": 81,
   "id": "62ba8449",
   "metadata": {},
   "outputs": [],
   "source": [
    "def run_gridsearch_sa_nn(X, y, input_dim, hidden_dim, output_dim, save_path, N=10):\n",
    "    T0_values = [1.0, 5.0, 10.0]\n",
    "    step_sizes = [0.1, 0.3, 0.5]\n",
    "    alphas = [0.95, 0.98, 0.99]\n",
    "\n",
    "    param_grid = list(ParameterGrid({\n",
    "        \"T0\": T0_values,\n",
    "        \"step_size\": step_sizes,\n",
    "        \"alpha\": alphas\n",
    "    }))\n",
    "\n",
    "    kfold = StratifiedKFold(n_splits=5, shuffle=True, random_state=42)\n",
    "    results = []\n",
    "\n",
    "    for idx, params in enumerate(param_grid, 1):\n",
    "        print(f\"\\n[{idx}/{len(param_grid)}] Testing: T0={params['T0']}, step_size={params['step_size']}, alpha={params['alpha']}\")\n",
    "        t0 = time.time()\n",
    "\n",
    "        accs, precs, recs, f1s = [], [], [], []\n",
    "\n",
    "        for fold, (train_idx, val_idx) in enumerate(kfold.split(X, y)):\n",
    "            X_train, X_val = X[train_idx], X[val_idx]\n",
    "            y_train, y_val = y[train_idx], y[val_idx]\n",
    "\n",
    "            for _ in range(N):\n",
    "                theta_star, _, _, _ = sa_nn(\n",
    "                    X_train, y_train,\n",
    "                    input_dim, hidden_dim, output_dim,\n",
    "                    max_iter=200000,\n",
    "                    T0=params[\"T0\"],\n",
    "                    alpha=params[\"alpha\"],\n",
    "                    step_size=params[\"step_size\"]\n",
    "                )\n",
    "\n",
    "                y_pred = sa_nn.predict(theta_star, X_val, input_dim, hidden_dim, output_dim)\n",
    "                report = classification_report(y_val, y_pred, output_dict=True, zero_division=0)\n",
    "\n",
    "                accs.append(report[\"accuracy\"])\n",
    "                precs.append(report[\"1\"][\"precision\"])\n",
    "                recs.append(report[\"1\"][\"recall\"])\n",
    "                f1s.append(report[\"1\"][\"f1-score\"])\n",
    "\n",
    "        row = {\n",
    "            \"T0\": params[\"T0\"],\n",
    "            \"step_size\": params[\"step_size\"],\n",
    "            \"alpha\": params[\"alpha\"],\n",
    "            \"val_accuracy\": np.mean(accs),\n",
    "            \"val_precision_class1\": np.mean(precs),\n",
    "            \"val_recall_class1\": np.mean(recs),\n",
    "            \"val_f1_class1\": np.mean(f1s),\n",
    "            \"time_seconds\": round(time.time() - t0, 2)\n",
    "        }\n",
    "        results.append(row)\n",
    "        print(f\"    → Done in {row['time_seconds']}s | Avg Val Acc: {row['val_accuracy']:.4f}\")\n",
    "\n",
    "    df = pd.DataFrame(results)\n",
    "    df.to_csv(os.path.join(save_path, \"gridsearch_sa_nn.csv\"), index=False)\n",
    "    print(f\"\\n✅ Grid search completed. Results saved to {save_path}/gridsearch_sa_nn.csv\")\n",
    "    return df"
   ]
  },
  {
   "cell_type": "code",
   "execution_count": null,
   "id": "ec7ff7b0",
   "metadata": {},
   "outputs": [],
   "source": [
    "# === Run SA Grid Search ===\n",
    "df_results_sa = run_gridsearch_sa_nn(X_temp, y_temp, input_dim, hidden_dim, output_dim, gridsearch_path)"
   ]
  },
  {
   "cell_type": "code",
   "execution_count": 82,
   "id": "f79e0051",
   "metadata": {},
   "outputs": [
    {
     "name": "stdout",
     "output_type": "stream",
     "text": [
      "Best SA hyperparameters found: T0 = 5.0, step_size = 0.01, alpha = 0.95\n"
     ]
    }
   ],
   "source": [
    "# === Load best SA hyperparameters from grid search results ===\n",
    "grid_results_path = os.path.join(gridsearch_path, \"gridsearch_sa_nn.csv\")\n",
    "df_grid_sa = pd.read_csv(grid_results_path)\n",
    "\n",
    "best_row_sa = df_grid_sa.loc[df_grid_sa[\"val_accuracy\"].idxmax()]\n",
    "best_T0 = best_row_sa[\"T0\"]\n",
    "best_step = best_row_sa[\"step_size\"]\n",
    "best_alpha = best_row_sa[\"alpha\"]\n",
    "print(f\"Best SA hyperparameters found: T0 = {best_T0}, step_size = {best_step}, alpha = {best_alpha}\")"
   ]
  },
  {
   "cell_type": "code",
   "execution_count": 90,
   "id": "2b9fe9b5",
   "metadata": {},
   "outputs": [
    {
     "name": "stdout",
     "output_type": "stream",
     "text": [
      "[SA] Training model 1/20\n",
      "[SA] Training model 2/20\n",
      "[SA] Training model 3/20\n",
      "[SA] Training model 4/20\n",
      "[SA] Training model 5/20\n",
      "[SA] Training model 6/20\n",
      "[SA] Training model 7/20\n",
      "[SA] Training model 8/20\n",
      "[SA] Training model 9/20\n",
      "[SA] Training model 10/20\n",
      "[SA] Training model 11/20\n",
      "[SA] Training model 12/20\n",
      "[SA] Training model 13/20\n",
      "[SA] Training model 14/20\n",
      "[SA] Training model 15/20\n",
      "[SA] Training model 16/20\n",
      "[SA] Training model 17/20\n",
      "[SA] Training model 18/20\n",
      "[SA] Training model 19/20\n",
      "[SA] Training model 20/20\n"
     ]
    }
   ],
   "source": [
    "# === Per-run confusion matrices and classification reports (SA final eval) ===\n",
    "sa_accuracies = []\n",
    "sa_reports = []\n",
    "conf_matrices = []\n",
    "\n",
    "for i in range(20):\n",
    "    print(f\"[SA] Training model {i+1}/20\")\n",
    "    model = SimpleNN(input_dim, hidden_dim, output_dim)\n",
    "    x_init = flatten_model_weights(model)\n",
    "    layer_sizes = [input_dim, hidden_dim, output_dim]\n",
    "\n",
    "    result = sa_nn(\n",
    "        x_init=x_init,\n",
    "        layer_sizes=layer_sizes,\n",
    "        X_train=X_temp,\n",
    "        y_train=y_temp,\n",
    "        X_val=None,\n",
    "        y_val=None,\n",
    "        loss_type=\"cross_entropy\",\n",
    "        step_size=best_step,\n",
    "        alpha=best_alpha,\n",
    "        T0=best_T0,\n",
    "        max_iter=200000,\n",
    "        track_val_loss=False,\n",
    "        track_val_accuracy=False,\n",
    "        early_stopping=False,\n",
    "        adaptive_step_size=False,\n",
    "        verbose=False\n",
    "    )\n",
    "\n",
    "    best_x, _, _, _, _, _ = result\n",
    "    set_model_weights(model, best_x)\n",
    "\n",
    "    model.eval()\n",
    "    with torch.no_grad():\n",
    "        X_test_tensor = torch.tensor(X_test, dtype=torch.float32)\n",
    "        y_pred = model(X_test_tensor).argmax(dim=1).numpy()\n",
    "\n",
    "        acc = accuracy_score(y_test, y_pred)\n",
    "        report = classification_report(y_test, y_pred, output_dict=True, zero_division=0)\n",
    "        cm = confusion_matrix(y_test, y_pred)\n",
    "\n",
    "        sa_accuracies.append(acc)\n",
    "        sa_reports.append(report)\n",
    "        conf_matrices.append(cm)\n",
    "\n",
    "        # === Save individual report and confusion matrix ===\n",
    "        report_df = pd.DataFrame(report).T\n",
    "        report_df[\"test_accuracy\"] = acc\n",
    "        report_df.to_csv(os.path.join(final_results_path, f\"sa_classification_report_run{i+1}.csv\"))\n",
    "\n",
    "        pd.DataFrame(cm).to_csv(os.path.join(final_results_path, f\"sa_conf_matrix_run{i+1}.csv\"), index=False)\n"
   ]
  },
  {
   "cell_type": "code",
   "execution_count": 94,
   "id": "38d2aabe",
   "metadata": {},
   "outputs": [
    {
     "name": "stdout",
     "output_type": "stream",
     "text": [
      "\n",
      "✅ SA final averaged accuracy over 20 runs: 0.5493\n",
      "📄 Reports saved to: c:\\Users\\emmaa\\OneDrive\\Documents\\0.BOCCONI\\THESIS\\gd-sa-optimization\\results\\analytical\\sa_gd_nn\n"
     ]
    },
    {
     "data": {
      "image/png": "[encoded data removed]",
      "text/plain": [
       "<Figure size 600x600 with 1 Axes>"
      ]
     },
     "metadata": {},
     "output_type": "display_data"
    }
   ],
   "source": [
    "# === Average confusion matrix ===\n",
    "avg_cm = np.mean(conf_matrices, axis=0)\n",
    "plt.figure(figsize=(6, 6))\n",
    "sns.heatmap(avg_cm, annot=True, fmt=\".1f\", cmap=\"Blues\", cbar=False,\n",
    "            xticklabels=[\"Low quality\", \"High quality\"],\n",
    "            yticklabels=[\"Low quality\", \"High quality\"])\n",
    "plt.title(\"SA Optimizer – Averaged Confusion Matrix (20 runs)\")\n",
    "plt.xlabel(\"Predicted label\")\n",
    "plt.ylabel(\"True label\")\n",
    "plt.tight_layout()\n",
    "pd.DataFrame(avg_cm).to_csv(os.path.join(final_results_path, \"sa_nn_avg_confusion_matrix.csv\"), index=False)\n",
    "\n",
    "# === Average classification report ===\n",
    "avg_report = {}\n",
    "for key in sa_reports[0].keys():\n",
    "    if isinstance(sa_reports[0][key], dict):\n",
    "        avg_report[key] = {\n",
    "            metric: np.mean([rep[key][metric] for rep in sa_reports])\n",
    "            for metric in sa_reports[0][key]\n",
    "        }\n",
    "    else:\n",
    "        avg_report[key] = np.mean([rep[key] for rep in sa_reports])\n",
    "\n",
    "df_avg_report = pd.DataFrame(avg_report).T\n",
    "df_avg_report[\"test_accuracy\"] = np.mean(sa_accuracies)\n",
    "df_avg_report.to_csv(os.path.join(final_results_path, \"sa_nn_avg_classification_report.csv\"))\n",
    "\n",
    "print(f\"\\n✅ SA final averaged accuracy over 20 runs: {np.mean(sa_accuracies):.4f}\")\n",
    "print(\"📄 Reports saved to:\", final_results_path)"
   ]
  },
  {
   "cell_type": "code",
   "execution_count": null,
   "id": "e452d0eb",
   "metadata": {},
   "outputs": [],
   "source": []
  }
 ],
 "metadata": {
  "kernelspec": {
   "display_name": "venv_thesis",
   "language": "python",
   "name": "python3"
  },
  "language_info": {
   "codemirror_mode": {
    "name": "ipython",
    "version": 3
   },
   "file_extension": ".py",
   "mimetype": "text/x-python",
   "name": "python",
   "nbconvert_exporter": "python",
   "pygments_lexer": "ipython3",
   "version": "3.12.0"
  }
 },
 "nbformat": 4,
 "nbformat_minor": 5
}
